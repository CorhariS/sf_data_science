{
 "cells": [
  {
   "cell_type": "markdown",
   "metadata": {},
   "source": [
    "# Игра угадай число"
   ]
  },
  {
   "cell_type": "code",
   "execution_count": 1,
   "metadata": {},
   "outputs": [],
   "source": [
    "\n",
    "from game_v2 import score_game\n",
    "from game_v2 import random_predict\n",
    "\n"
   ]
  },
  {
   "cell_type": "code",
   "execution_count": 2,
   "metadata": {},
   "outputs": [
    {
     "name": "stdout",
     "output_type": "stream",
     "text": [
      "Ваш алгоритм угадывает число в среднем за: 101 попыток\n"
     ]
    },
    {
     "data": {
      "text/plain": [
       "101"
      ]
     },
     "execution_count": 2,
     "metadata": {},
     "output_type": "execute_result"
    }
   ],
   "source": [
    "score_game(random_predict)"
   ]
  },
  {
   "cell_type": "code",
   "execution_count": null,
   "metadata": {},
   "outputs": [],
   "source": []
  },
  {
   "cell_type": "code",
   "execution_count": 24,
   "metadata": {},
   "outputs": [
    {
     "name": "stdout",
     "output_type": "stream",
     "text": [
      "['father', 'mother', 'sister', 'brother']\n",
      "['father', 'mother', 'sister', 'brother', 'uncle']\n",
      "['father', 'mother', 'brother', 'uncle']\n",
      "['father', 'mother', 'sister', 'uncle']\n"
     ]
    }
   ],
   "source": [
    "myfamily = ['father', 'mother', 'sister', 'brother']\n",
    "print(myfamily)\n",
    "myfamily.append('uncle')\n",
    "print(myfamily)\n",
    "myfamily.remove('sister')\n",
    "print(myfamily)\n",
    "myfamily[2] = 'sister'\n",
    "print(myfamily)"
   ]
  },
  {
   "cell_type": "code",
   "execution_count": 21,
   "metadata": {},
   "outputs": [
    {
     "name": "stdout",
     "output_type": "stream",
     "text": [
      "4\n"
     ]
    }
   ],
   "source": [
    "lst1 = [1, 5, 10, 7]\n",
    "lst2 = [2, 8, 10, 4]\n",
    "lst3 = lst1 + lst2\n",
    "\n",
    "print(len(lst2))"
   ]
  },
  {
   "cell_type": "code",
   "execution_count": null,
   "metadata": {},
   "outputs": [],
   "source": [
    "myfamily = ('father', 'mother', 'sister', 'brother')\n"
   ]
  },
  {
   "cell_type": "code",
   "execution_count": 29,
   "metadata": {},
   "outputs": [
    {
     "name": "stdout",
     "output_type": "stream",
     "text": [
      "Alex\n"
     ]
    }
   ],
   "source": [
    "users = {'user1': 'Vova', 'user2': 'dima'}\n",
    "users['user3'] = 'Alex'\n",
    "users['user2'] = 'sas'\n",
    "user = users['user3'] \n",
    "print(user)"
   ]
  },
  {
   "cell_type": "code",
   "execution_count": 31,
   "metadata": {},
   "outputs": [
    {
     "name": "stdout",
     "output_type": "stream",
     "text": [
      "22\n",
      "1\n",
      "9\n"
     ]
    }
   ],
   "source": [
    "lst = [1, 2, 3, 7, 9]\n",
    "print(sum(lst))\n",
    "print(min(lst))\n",
    "print(max(lst))"
   ]
  },
  {
   "cell_type": "code",
   "execution_count": 33,
   "metadata": {},
   "outputs": [
    {
     "name": "stdout",
     "output_type": "stream",
     "text": [
      "2 20\n"
     ]
    }
   ],
   "source": [
    "lst = [2, 8, 13, 14, 20]\n",
    "print(lst[0], lst[4])\n"
   ]
  },
  {
   "cell_type": "code",
   "execution_count": 36,
   "metadata": {},
   "outputs": [
    {
     "name": "stdout",
     "output_type": "stream",
     "text": [
      "2\n",
      "8\n",
      "34\n"
     ]
    }
   ],
   "source": [
    "lst = [1, 2, 3, 5, 8, 13, 21, 34, 55, 89]\n",
    "for item in lst:\n",
    "    \n",
    "    if item % 2 == 0:\n",
    "        print(item)\n",
    "    \n",
    "    "
   ]
  },
  {
   "cell_type": "code",
   "execution_count": 41,
   "metadata": {},
   "outputs": [
    {
     "name": "stdout",
     "output_type": "stream",
     "text": [
      "55\n",
      "[1, 2, 3, 8, 13, 21, 55, 89, 6, 120]\n"
     ]
    }
   ],
   "source": [
    "lst = [1, 2, 3, 5, 8, 13, 21, 34, 55, 89]\n",
    "lst.remove(5)\n",
    "lst.remove(34)\n",
    "print(lst[6])\n",
    "\n",
    "lst.append(6)\n",
    "lst.append(120)\n",
    "print(lst)\n"
   ]
  }
 ],
 "metadata": {
  "interpreter": {
   "hash": "5f27ce600add25a3654497063a6232dd9913014243adf604e761709ea4cbf1f0"
  },
  "kernelspec": {
   "display_name": "Python 3.9.1 64-bit",
   "language": "python",
   "name": "python3"
  },
  "language_info": {
   "codemirror_mode": {
    "name": "ipython",
    "version": 3
   },
   "file_extension": ".py",
   "mimetype": "text/x-python",
   "name": "python",
   "nbconvert_exporter": "python",
   "pygments_lexer": "ipython3",
   "version": "3.9.1"
  },
  "orig_nbformat": 4
 },
 "nbformat": 4,
 "nbformat_minor": 2
}
