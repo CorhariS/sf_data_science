{
 "cells": [
  {
   "cell_type": "code",
   "execution_count": 137,
   "metadata": {},
   "outputs": [],
   "source": [
    "\n",
    "import pandas as pd\n",
    "import numpy as np\n",
    "import category_encoders as ce\n",
    "import json\n",
    "import ast\n",
    "from sklearn import metrics\n",
    "from sklearn.preprocessing import StandardScaler, MinMaxScaler\n",
    "\n",
    "from statistics import mean, median\n",
    "from sklearn.model_selection import train_test_split\n",
    "\n",
    "import pickle\n",
    "\n",
    "import matplotlib.pyplot as plt\n",
    "import seaborn as sns\n",
    "\n",
    "import sys, os\n",
    "sys.path.append(os.path.join(os.path.abspath(''), '..', 'libs'))\n",
    "import preparation\n",
    "\n",
    "import importlib, sys\n",
    "importlib.reload(sys.modules['preparation'])\n",
    "from preparation import parsing_homeFacts, parsing_schools, parsing_year_build"
   ]
  },
  {
   "cell_type": "code",
   "execution_count": 138,
   "metadata": {},
   "outputs": [],
   "source": [
    "# загрузим модель\n",
    "with open('../libs/data/model_abr.pkl', 'rb') as file_model:\n",
    "    model = pickle.load(file_model)\n"
   ]
  },
  {
   "attachments": {},
   "cell_type": "markdown",
   "metadata": {},
   "source": [
    "Заранее создадим функцию, которая будет расчитывать метрики:\n",
    "\n",
    "1. MAE - средняя абсолютная ошибка (целевая метрика)\n",
    "2. MAPE - средняя абсолютная ошибка в процентах \n",
    "3. $R^2$ - коэффициент детерминации "
   ]
  },
  {
   "cell_type": "code",
   "execution_count": 139,
   "metadata": {},
   "outputs": [],
   "source": [
    "def print_metrics(y_test, y_test_predict):\n",
    "    print('Valid R^2: {:.3f}'.format(metrics.r2_score(y_test, y_test_predict)))\n",
    "    print('Valid MAE: {:.3f}'.format(metrics.mean_absolute_error(y_test, y_test_predict)))\n",
    "    print('Valid MAPE: {:.3f}'.format(metrics.mean_absolute_percentage_error(y_test, y_test_predict)*100))"
   ]
  },
  {
   "attachments": {},
   "cell_type": "markdown",
   "metadata": {},
   "source": [
    "Подгрузим константы и бинарный справочник"
   ]
  },
  {
   "cell_type": "code",
   "execution_count": 140,
   "metadata": {},
   "outputs": [],
   "source": [
    "with open('../libs/data/const_dict.pkl', 'rb') as pkl_file:\n",
    "    const_dict = pickle.load(pkl_file)\n",
    "    \n",
    "with open('../libs/data/dict_binary.pkl', 'rb') as pkl_file:\n",
    "    dict_binary = pickle.load(pkl_file)"
   ]
  },
  {
   "cell_type": "code",
   "execution_count": 141,
   "metadata": {},
   "outputs": [],
   "source": [
    "X_valid = pd.read_csv('data/df_X_valid.csv', dtype={\"zipcode\":str})\n",
    "y_valid = pd.read_csv('data/df_y_valid.csv')"
   ]
  },
  {
   "attachments": {},
   "cell_type": "markdown",
   "metadata": {},
   "source": [
    "Признаки 'status', 'PrivatePool'"
   ]
  },
  {
   "cell_type": "code",
   "execution_count": 142,
   "metadata": {},
   "outputs": [],
   "source": [
    "X_valid = X_valid.drop(['status'], axis=1)\n",
    "\n",
    "X_valid['PrivatePool'] = X_valid['PrivatePool'].fillna(X_valid['private pool'])\n",
    "X_valid['PrivatePool'] = X_valid['PrivatePool'].apply(lambda x: 1 if x=='Yes' or x=='yes' else 0)\n",
    "\n",
    "X_valid = X_valid.drop(['private pool'], axis=1)"
   ]
  },
  {
   "attachments": {},
   "cell_type": "markdown",
   "metadata": {},
   "source": [
    "Признак 'propertyType'. Пустые значения заполняем из справочника констант, по имени признака"
   ]
  },
  {
   "cell_type": "code",
   "execution_count": 143,
   "metadata": {},
   "outputs": [],
   "source": [
    "X_valid['propertyType'] = X_valid['propertyType'].fillna(const_dict['propertyType'])\n",
    "X_valid['propertyType'] = X_valid['propertyType'].str.lower()\n",
    "X_valid['propertyType'] = X_valid['propertyType'].apply(lambda x: x+' other')\n",
    "\n",
    "lst_propertyType = ['single', 'condo', ['land', 'lot'], ['townhouse','townhome'], 'multi', 'traditional', \n",
    "                    ['coop', 'co-op'], ['ranch', 'farm'], 'high rise', ['low-rise', 'low'], 'detached', 'mobile', ['contemporary','modern'],\n",
    "                    ['1 story', '1', 'one story'], ['2 story', '2', '2 stories', 'two stories', 'two story', 'stories'], ['3 stor', '3'], ['colonial', 'transitional', 'historical'],\n",
    "                    ['garden', 'cluster home'], \n",
    "                    ['craft', 'cottage', 'tri-level', 'bungalow', 'cape', 'spanish', 'mediterranean', 'victorian', 'florida', 'french', 'georgian', 'loft', 'art', 'tudor'],\n",
    "                    ['other', 'custom', 'manufactured']]\n",
    "\n",
    "mask_nan = X_valid['propertyType'].isna()\n",
    "\n",
    "for item in lst_propertyType:\n",
    "    if type(item)==list:\n",
    "        for ind, prprt in enumerate(item):\n",
    "            X_valid['propertyType'].where(~(X_valid[~mask_nan].propertyType.str.contains(prprt) ), other=item[0], inplace=True)\n",
    "    else:\n",
    "\n",
    "        X_valid['propertyType'].where(~(X_valid[~mask_nan].propertyType.str.contains(item) ), other=item, inplace=True) "
   ]
  },
  {
   "attachments": {},
   "cell_type": "markdown",
   "metadata": {},
   "source": [
    "Признаки 'baths', 'beds', 'fireplace' "
   ]
  },
  {
   "cell_type": "code",
   "execution_count": 144,
   "metadata": {},
   "outputs": [],
   "source": [
    "# Преобразуем колонку 'baths' \n",
    "pattern = r'(\\d*\\.\\d+|\\d+)'\n",
    "X_valid[\"baths\"] = pd.to_numeric(X_valid[\"baths\"].str.extract(pattern)[0], downcast='float')\n",
    "X_valid[\"baths\"] = X_valid[\"baths\"].fillna(const_dict['baths'])         \n",
    "X_valid[\"baths\"] = X_valid[\"baths\"].fillna(0)\n",
    "\n",
    "X_valid[\"beds\"] = pd.to_numeric(X_valid[\"beds\"].str.extract(pattern)[0], downcast='float')\n",
    "X_valid[\"beds\"] = X_valid[\"beds\"].fillna(const_dict['beds'])    \n",
    "X_valid[\"beds\"] = X_valid[\"beds\"].fillna(0)\n",
    "\n",
    "X_valid['fireplace'] = X_valid['fireplace'].fillna('0')\n",
    "X_valid['fireplace'] = X_valid['fireplace'].apply(lambda x: 0 if x.lower() in ['0', 'no', 'not applicable'] else 1)\n",
    "\n",
    "# Удалим лишнии колонки\n",
    "X_valid = X_valid.drop(columns=['street', 'stories', 'mls-id', 'MlsId'], axis=1)"
   ]
  },
  {
   "attachments": {},
   "cell_type": "markdown",
   "metadata": {},
   "source": [
    "Распарсим признаки 'homeFacts', 'school'"
   ]
  },
  {
   "cell_type": "code",
   "execution_count": 145,
   "metadata": {},
   "outputs": [],
   "source": [
    "X_valid = preparation.parsing_homeFacts(X_valid)\n",
    "X_valid = preparation.parsing_schools(X_valid)"
   ]
  },
  {
   "attachments": {},
   "cell_type": "markdown",
   "metadata": {},
   "source": [
    "Признаки 'Year built', 'Remodeled year'"
   ]
  },
  {
   "cell_type": "code",
   "execution_count": 146,
   "metadata": {},
   "outputs": [],
   "source": [
    "#Year built    \n",
    "X_valid['Year built'] = X_valid['Year built'].replace('',np.nan)\n",
    "X_valid['Year built'] = X_valid['Year built'].replace('No Data',np.nan)\n",
    "pattern = r'(^\\d{4}$)'\n",
    "X_valid['Year built'] = X_valid['Year built'].str.extract(pattern)[0]\n",
    "X_valid['Year built'].fillna(const_dict['Year built'], inplace=True)    \n",
    "# парсим значения в колонке 'Year build' и записываем новые значения в колонку 'interval_year'\n",
    "X_valid = preparation.parsing_year_build(X_valid)\n",
    "# Remodeled year\n",
    "X_valid['Remodeled year'] = X_valid['Remodeled year'].str.extract(pattern)[0]\n",
    "X_valid['Remodeled year'] = X_valid['Remodeled year'].fillna(0)\n",
    "X_valid['Remodeled year'] = X_valid['Remodeled year'].apply(lambda x: 0 if x==0 else 1)"
   ]
  },
  {
   "attachments": {},
   "cell_type": "markdown",
   "metadata": {},
   "source": [
    "Признаки 'Price/sqft' и 'sqft'"
   ]
  },
  {
   "cell_type": "code",
   "execution_count": 147,
   "metadata": {},
   "outputs": [],
   "source": [
    "X_valid['price/sqft'] = X_valid['Price/sqft'].str.replace(',','')\n",
    "pattern = r'\\b(\\d+)\\b'\n",
    "X_valid['price/sqft'] = pd.to_numeric(X_valid['price/sqft'].str.extract(pattern)[0])\n",
    "\n",
    "X_valid['sqft'] = X_valid['sqft'].str.replace(',','')\n",
    "X_valid['sqft'] = pd.to_numeric(X_valid['sqft'].str.extract(pattern)[0])\n",
    "\n",
    "X_valid[\"price/sqft\"] = X_valid[\"price/sqft\"].fillna(const_dict['price/sqft'])    # df[\"price/sqft\"].median()\n",
    "X_valid[\"sqft\"] = X_valid[\"sqft\"].fillna(const_dict['sqft'])   # df[\"sqft\"].median()"
   ]
  },
  {
   "cell_type": "code",
   "execution_count": 148,
   "metadata": {},
   "outputs": [],
   "source": [
    "# Удалим лишнии колонки\n",
    "X_valid = X_valid.drop(columns=['lotsize', 'Price/sqft'], axis=1)"
   ]
  },
  {
   "attachments": {},
   "cell_type": "markdown",
   "metadata": {},
   "source": [
    "Признаки 'Cooling', 'Heating' и 'Parking'"
   ]
  },
  {
   "cell_type": "code",
   "execution_count": 149,
   "metadata": {},
   "outputs": [],
   "source": [
    "X_valid['Cooling'] = X_valid['Cooling'].fillna('0') \n",
    "X_valid['Cooling'] = X_valid['Cooling'].apply(lambda x: 0 if x.lower() in ['','no data', 'none'] else 1)\n",
    "\n",
    "X_valid['Heating'] = X_valid['Heating'].fillna('0') \n",
    "X_valid['Heating'] = X_valid['Heating'].apply(lambda x: 0 if x.lower() in ['','no data', 'none'] else 1)\n",
    "\n",
    "X_valid['Parking'] = X_valid['Parking'].fillna('0')\n",
    "X_valid['Parking'] = X_valid['Parking'].apply(lambda x: 0 if x.lower() in ['','no data', 'none'] else 1)"
   ]
  },
  {
   "attachments": {},
   "cell_type": "markdown",
   "metadata": {},
   "source": [
    "Кодируем бинарные признаки\n"
   ]
  },
  {
   "cell_type": "code",
   "execution_count": 150,
   "metadata": {},
   "outputs": [],
   "source": [
    "def get_binary_value(value, ind, dict_bin, value_mode):\n",
    "    \n",
    "    if value in dict_bin.keys():\n",
    "        return dict_bin[value][ind]\n",
    "    else:\n",
    "        return dict_bin[value_mode][ind]\n",
    "    \n",
    "   \n",
    "dict_zipcode = dict_binary['zipcode']\n",
    "for ind, col_name in enumerate(dict_zipcode['col_names']):\n",
    "    X_valid[col_name] = X_valid['zipcode'].apply(lambda x: get_binary_value(x, ind, dict_zipcode, const_dict['zipcode'+'_mode']))\n",
    "    \n",
    "dict_city = dict_binary['city']\n",
    "for ind, col_name in enumerate(dict_city['col_names']):\n",
    "    X_valid[col_name] = X_valid['city'].apply(lambda x: get_binary_value(x, ind, dict_city, const_dict['city'+'_mode']))\n",
    "    \n",
    "\n",
    "dict_state = dict_binary['state']\n",
    "for ind, col_name in enumerate(dict_state['col_names']):\n",
    "    X_valid[col_name] = X_valid['state'].apply(lambda x: get_binary_value(x, ind, dict_state, const_dict['state'+'_mode']))\n",
    "    \n",
    "dict_propertyType = dict_binary['propertyType']\n",
    "for ind, col_name in enumerate(dict_propertyType['col_names']):\n",
    "    X_valid[col_name] = X_valid['propertyType'].apply(lambda x: get_binary_value(x, ind, dict_propertyType, const_dict['propertyType'+'_mode']))\n",
    "    \n",
    "dict_interval_year = dict_binary['interval_year']\n",
    "for ind, col_name in enumerate(dict_interval_year['col_names']):\n",
    "    X_valid[col_name] = X_valid['interval_year'].apply(lambda x: get_binary_value(x, ind, dict_interval_year, const_dict['interval_year'+'_mode']))   \n"
   ]
  },
  {
   "cell_type": "code",
   "execution_count": 151,
   "metadata": {},
   "outputs": [],
   "source": [
    "# Удалим лишнии колонки\n",
    "X_valid = X_valid.drop(columns=['zipcode', 'city', 'state', 'propertyType', 'interval_year'], axis=1)"
   ]
  },
  {
   "attachments": {},
   "cell_type": "markdown",
   "metadata": {},
   "source": [
    "Нормализуем признаки"
   ]
  },
  {
   "cell_type": "code",
   "execution_count": 152,
   "metadata": {},
   "outputs": [],
   "source": [
    "\n",
    "\n",
    "col_scale = ['baths', 'sqft', 'beds', 'Elementary', 'Middle', 'High', 'Other', 'Rating', 'Distance', 'price/sqft']\n",
    "scaler = const_dict['MinMaxScaler_model']\n",
    " \n",
    "X_valid[col_scale] = scaler.transform(X_valid[col_scale].values)"
   ]
  },
  {
   "cell_type": "code",
   "execution_count": 153,
   "metadata": {},
   "outputs": [
    {
     "name": "stdout",
     "output_type": "stream",
     "text": [
      "Valid R^2: 0.762\n",
      "Valid MAE: 86218.849\n",
      "Valid MAPE: 22.291\n"
     ]
    }
   ],
   "source": [
    "y_valid_pred = model.predict(X_valid[const_dict['order_columns_name']])\n",
    "\n",
    "#Выводим результирующие метрики\n",
    "print_metrics(y_valid, y_valid_pred)"
   ]
  },
  {
   "attachments": {},
   "cell_type": "markdown",
   "metadata": {},
   "source": [
    "### Все манипуляции с валидационном файлом вынесены в отдельную функцию 'preparate_file' модуля 'preparation' ###"
   ]
  },
  {
   "attachments": {},
   "cell_type": "markdown",
   "metadata": {},
   "source": [
    "Поэтому всё, что было выполнено выше, можно записать в несколько строчек"
   ]
  },
  {
   "cell_type": "code",
   "execution_count": 154,
   "metadata": {},
   "outputs": [
    {
     "name": "stdout",
     "output_type": "stream",
     "text": [
      "Valid R^2: 0.762\n",
      "Valid MAE: 86218.849\n",
      "Valid MAPE: 22.291\n"
     ]
    }
   ],
   "source": [
    "X_valid = pd.read_csv('data/df_X_valid.csv', dtype={\"zipcode\":str})\n",
    "y_valid = pd.read_csv('data/df_y_valid.csv')\n",
    "\n",
    "X_valid = preparation.preparate_file(X_valid, method_clean=False)\n",
    "\n",
    "y_valid_pred = model.predict(X_valid[const_dict['order_columns_name']])\n",
    "\n",
    "#Выводим результирующие метрики\n",
    "print_metrics(y_valid, y_valid_pred)"
   ]
  },
  {
   "attachments": {},
   "cell_type": "markdown",
   "metadata": {},
   "source": [
    "Метрика MAPE на валидационном файле показала значение 22.291%, что немного больше значения метрики MAPE на тестовых данных (11.858%). Это объясняется следующим:\n",
    "1. Разный размер тестового и валидационного наборов (67828 и  1769 записей соответственно)  \n",
    "2. Данные в тестовой выборке были очищены на предмет выбрасов в таких признаках как 'sqft', 'price/sqft' (интервальная очистка и z-отклонения). Если провести такую очистку данных в валидационной выборки (удаляя строки в выборке), то значение MAPE валидационного набора уменьшится, но при этом не будет предсказания по 41 записи из 1769 записей.  "
   ]
  },
  {
   "cell_type": "code",
   "execution_count": 156,
   "metadata": {},
   "outputs": [
    {
     "name": "stdout",
     "output_type": "stream",
     "text": [
      "Число записей в валидационной выборке 1769\n",
      "Число записей в валидационной выборке после очистки 1728\n",
      "Valid R^2: 0.766\n",
      "Valid MAE: 73509.997\n",
      "Valid MAPE: 17.701\n"
     ]
    }
   ],
   "source": [
    "X_valid = pd.read_csv('data/df_X_valid.csv', dtype={\"zipcode\":str})\n",
    "y_valid = pd.read_csv('data/df_y_valid.csv')\n",
    "df = pd.concat([X_valid, y_valid], axis=1)\n",
    "print('Число записей в валидационной выборке', df.shape[0])\n",
    "df_val = preparation.preparate_file(df, method_clean=True)\n",
    "print('Число записей в валидационной выборке после очистки', df_val.shape[0])\n",
    "\n",
    "X_valid = df_val[const_dict['order_columns_name']]\n",
    "y_valid = df_val['target']\n",
    "y_valid_pred = model.predict(X_valid)\n",
    "#Выводим результирующие метрики\n",
    "print_metrics(y_valid, y_valid_pred)"
   ]
  },
  {
   "attachments": {},
   "cell_type": "markdown",
   "metadata": {},
   "source": [
    "После очистки данных валидационного набора значение метрики MAPE уменьшилось с **22.291%** до **17.701%**"
   ]
  },
  {
   "attachments": {},
   "cell_type": "markdown",
   "metadata": {},
   "source": [
    "### **Примечание** ###\n",
    "Предположу, что можно уменьшить процент ошибки, если прибегнуть к внешним данным по GPS координатам и распарсить признак 'street'. Но в свободном (бесплатном) доступе я не нашел таких данных"
   ]
  }
 ],
 "metadata": {
  "kernelspec": {
   "display_name": "Python 3",
   "language": "python",
   "name": "python3"
  },
  "language_info": {
   "codemirror_mode": {
    "name": "ipython",
    "version": 3
   },
   "file_extension": ".py",
   "mimetype": "text/x-python",
   "name": "python",
   "nbconvert_exporter": "python",
   "pygments_lexer": "ipython3",
   "version": "3.9.1"
  },
  "orig_nbformat": 4
 },
 "nbformat": 4,
 "nbformat_minor": 2
}
