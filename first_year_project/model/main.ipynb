{
 "cells": [
  {
   "attachments": {},
   "cell_type": "markdown",
   "metadata": {},
   "source": [
    "## <center> Итоговый проект первого года обучения ##\n",
    "### <center> Агентство недвижимости ###\n",
    "\n",
    "**Цель:** Разработать сервис для предсказания стоимости домов на основе истории предложений\n"
   ]
  },
  {
   "cell_type": "code",
   "execution_count": 1,
   "metadata": {},
   "outputs": [],
   "source": [
    "import pandas as pd\n",
    "import numpy as np\n",
    "import json\n",
    "import ast\n",
    "from statistics import mean, median\n",
    "from sklearn.model_selection import train_test_split\n",
    "\n",
    "import pickle\n",
    "\n",
    "import matplotlib.pyplot as plt\n",
    "import seaborn as sns\n",
    "\n",
    "import sys, os\n",
    "sys.path.append(os.path.join(os.path.abspath(''), '..', 'libs'))\n",
    "import preparation\n",
    "\n",
    "import importlib, sys\n",
    "importlib.reload(sys.modules['preparation'])\n",
    "from preparation import parsing_homeFacts, parsing_schools, parsing_year_build"
   ]
  },
  {
   "attachments": {},
   "cell_type": "markdown",
   "metadata": {},
   "source": [
    "Созданим справочник констант. В него будут записываться постоянные значения (моды, медианы, средние значения), которые будут получены на моменте подготовки и очистки модели и которые будут использоваться в сервисе для предсказания значений целевой метрики 'target'\n",
    "\n",
    "Структура const_dict:\n",
    "* ключ: имя параметра\n",
    "* значение: константа (моды, медианы, средние значения) "
   ]
  },
  {
   "cell_type": "code",
   "execution_count": 2,
   "metadata": {},
   "outputs": [],
   "source": [
    "const_dict = dict()"
   ]
  },
  {
   "cell_type": "code",
   "execution_count": 3,
   "metadata": {},
   "outputs": [],
   "source": [
    "df = pd.read_csv('data/data.csv')"
   ]
  },
  {
   "cell_type": "code",
   "execution_count": 4,
   "metadata": {},
   "outputs": [
    {
     "data": {
      "text/html": [
       "<div>\n",
       "<style scoped>\n",
       "    .dataframe tbody tr th:only-of-type {\n",
       "        vertical-align: middle;\n",
       "    }\n",
       "\n",
       "    .dataframe tbody tr th {\n",
       "        vertical-align: top;\n",
       "    }\n",
       "\n",
       "    .dataframe thead th {\n",
       "        text-align: right;\n",
       "    }\n",
       "</style>\n",
       "<table border=\"1\" class=\"dataframe\">\n",
       "  <thead>\n",
       "    <tr style=\"text-align: right;\">\n",
       "      <th></th>\n",
       "      <th>status</th>\n",
       "      <th>private pool</th>\n",
       "      <th>propertyType</th>\n",
       "      <th>street</th>\n",
       "      <th>baths</th>\n",
       "      <th>homeFacts</th>\n",
       "      <th>fireplace</th>\n",
       "      <th>city</th>\n",
       "      <th>schools</th>\n",
       "      <th>sqft</th>\n",
       "      <th>zipcode</th>\n",
       "      <th>beds</th>\n",
       "      <th>state</th>\n",
       "      <th>stories</th>\n",
       "      <th>mls-id</th>\n",
       "      <th>PrivatePool</th>\n",
       "      <th>MlsId</th>\n",
       "      <th>target</th>\n",
       "    </tr>\n",
       "  </thead>\n",
       "  <tbody>\n",
       "    <tr>\n",
       "      <th>0</th>\n",
       "      <td>Active</td>\n",
       "      <td>NaN</td>\n",
       "      <td>Single Family Home</td>\n",
       "      <td>240 Heather Ln</td>\n",
       "      <td>3.5</td>\n",
       "      <td>{'atAGlanceFacts': [{'factValue': '2019', 'fac...</td>\n",
       "      <td>Gas Logs</td>\n",
       "      <td>Southern Pines</td>\n",
       "      <td>[{'rating': ['4', '4', '7', 'NR', '4', '7', 'N...</td>\n",
       "      <td>2900</td>\n",
       "      <td>28387</td>\n",
       "      <td>4</td>\n",
       "      <td>NC</td>\n",
       "      <td>NaN</td>\n",
       "      <td>NaN</td>\n",
       "      <td>NaN</td>\n",
       "      <td>611019</td>\n",
       "      <td>$418,000</td>\n",
       "    </tr>\n",
       "    <tr>\n",
       "      <th>1</th>\n",
       "      <td>for sale</td>\n",
       "      <td>NaN</td>\n",
       "      <td>single-family home</td>\n",
       "      <td>12911 E Heroy Ave</td>\n",
       "      <td>3 Baths</td>\n",
       "      <td>{'atAGlanceFacts': [{'factValue': '2019', 'fac...</td>\n",
       "      <td>NaN</td>\n",
       "      <td>Spokane Valley</td>\n",
       "      <td>[{'rating': ['4/10', 'None/10', '4/10'], 'data...</td>\n",
       "      <td>1,947 sqft</td>\n",
       "      <td>99216</td>\n",
       "      <td>3 Beds</td>\n",
       "      <td>WA</td>\n",
       "      <td>2.0</td>\n",
       "      <td>NaN</td>\n",
       "      <td>NaN</td>\n",
       "      <td>201916904</td>\n",
       "      <td>$310,000</td>\n",
       "    </tr>\n",
       "    <tr>\n",
       "      <th>2</th>\n",
       "      <td>for sale</td>\n",
       "      <td>NaN</td>\n",
       "      <td>single-family home</td>\n",
       "      <td>2005 Westridge Rd</td>\n",
       "      <td>2 Baths</td>\n",
       "      <td>{'atAGlanceFacts': [{'factValue': '1961', 'fac...</td>\n",
       "      <td>yes</td>\n",
       "      <td>Los Angeles</td>\n",
       "      <td>[{'rating': ['8/10', '4/10', '8/10'], 'data': ...</td>\n",
       "      <td>3,000 sqft</td>\n",
       "      <td>90049</td>\n",
       "      <td>3 Beds</td>\n",
       "      <td>CA</td>\n",
       "      <td>1.0</td>\n",
       "      <td>NaN</td>\n",
       "      <td>yes</td>\n",
       "      <td>FR19221027</td>\n",
       "      <td>$2,895,000</td>\n",
       "    </tr>\n",
       "  </tbody>\n",
       "</table>\n",
       "</div>"
      ],
      "text/plain": [
       "     status private pool        propertyType             street    baths  \\\n",
       "0    Active          NaN  Single Family Home     240 Heather Ln      3.5   \n",
       "1  for sale          NaN  single-family home  12911 E Heroy Ave  3 Baths   \n",
       "2  for sale          NaN  single-family home  2005 Westridge Rd  2 Baths   \n",
       "\n",
       "                                           homeFacts fireplace  \\\n",
       "0  {'atAGlanceFacts': [{'factValue': '2019', 'fac...  Gas Logs   \n",
       "1  {'atAGlanceFacts': [{'factValue': '2019', 'fac...       NaN   \n",
       "2  {'atAGlanceFacts': [{'factValue': '1961', 'fac...       yes   \n",
       "\n",
       "             city                                            schools  \\\n",
       "0  Southern Pines  [{'rating': ['4', '4', '7', 'NR', '4', '7', 'N...   \n",
       "1  Spokane Valley  [{'rating': ['4/10', 'None/10', '4/10'], 'data...   \n",
       "2     Los Angeles  [{'rating': ['8/10', '4/10', '8/10'], 'data': ...   \n",
       "\n",
       "         sqft zipcode    beds state stories mls-id PrivatePool       MlsId  \\\n",
       "0        2900   28387       4    NC     NaN    NaN         NaN      611019   \n",
       "1  1,947 sqft   99216  3 Beds    WA     2.0    NaN         NaN   201916904   \n",
       "2  3,000 sqft   90049  3 Beds    CA     1.0    NaN         yes  FR19221027   \n",
       "\n",
       "       target  \n",
       "0    $418,000  \n",
       "1    $310,000  \n",
       "2  $2,895,000  "
      ]
     },
     "execution_count": 4,
     "metadata": {},
     "output_type": "execute_result"
    }
   ],
   "source": [
    "df.head(3)"
   ]
  },
  {
   "cell_type": "code",
   "execution_count": 5,
   "metadata": {},
   "outputs": [
    {
     "data": {
      "text/plain": [
       "status           39918\n",
       "private pool    373004\n",
       "propertyType     34733\n",
       "street               2\n",
       "baths           106338\n",
       "homeFacts            0\n",
       "fireplace       274070\n",
       "city                34\n",
       "schools              0\n",
       "sqft             40577\n",
       "zipcode              0\n",
       "beds             91282\n",
       "state                0\n",
       "stories         150715\n",
       "mls-id          352243\n",
       "PrivatePool     336874\n",
       "MlsId            66880\n",
       "target            2481\n",
       "dtype: int64"
      ]
     },
     "execution_count": 5,
     "metadata": {},
     "output_type": "execute_result"
    }
   ],
   "source": [
    "df.isna().sum()"
   ]
  },
  {
   "cell_type": "code",
   "execution_count": 6,
   "metadata": {},
   "outputs": [
    {
     "data": {
      "text/plain": [
       "(377185, 18)"
      ]
     },
     "execution_count": 6,
     "metadata": {},
     "output_type": "execute_result"
    }
   ],
   "source": [
    "df.shape"
   ]
  },
  {
   "attachments": {},
   "cell_type": "markdown",
   "metadata": {},
   "source": [
    "Удалим строки с нулевой ценой, а так же где нет значений в колонке 'city'"
   ]
  },
  {
   "cell_type": "code",
   "execution_count": 7,
   "metadata": {},
   "outputs": [],
   "source": [
    "df = df[~df['target'].isna()]\n",
    "df = df[~df['city'].isna()]"
   ]
  },
  {
   "cell_type": "code",
   "execution_count": 8,
   "metadata": {},
   "outputs": [
    {
     "data": {
      "text/plain": [
       "0           $418,000\n",
       "1           $310,000\n",
       "2         $2,895,000\n",
       "3         $2,395,000\n",
       "4             $5,000\n",
       "             ...    \n",
       "377180    $1,249,000\n",
       "377181      $674,999\n",
       "377182      $528,000\n",
       "377183       $34,500\n",
       "377184      $204,900\n",
       "Name: target, Length: 374670, dtype: object"
      ]
     },
     "execution_count": 8,
     "metadata": {},
     "output_type": "execute_result"
    }
   ],
   "source": [
    "df['target']"
   ]
  },
  {
   "attachments": {},
   "cell_type": "markdown",
   "metadata": {},
   "source": [
    "Значения в колонке 'target' представляют собой строку с набором символов, цифр. Попробуем определить из каких символов состоят эти значения"
   ]
  },
  {
   "cell_type": "code",
   "execution_count": 9,
   "metadata": {},
   "outputs": [
    {
     "data": {
      "text/plain": [
       "{' ',\n",
       " '$',\n",
       " '+',\n",
       " ',',\n",
       " '-',\n",
       " '/',\n",
       " '0',\n",
       " '1',\n",
       " '2',\n",
       " '3',\n",
       " '4',\n",
       " '5',\n",
       " '6',\n",
       " '7',\n",
       " '8',\n",
       " '9',\n",
       " 'm',\n",
       " 'o'}"
      ]
     },
     "execution_count": 9,
     "metadata": {},
     "output_type": "execute_result"
    }
   ],
   "source": [
    "symbols_set = set()\n",
    "def get_symbols_str(text):\n",
    "    for item in text:\n",
    "        symbols_set.add(item)\n",
    "\n",
    "df['target'].apply(get_symbols_str)\n",
    "symbols_set    "
   ]
  },
  {
   "attachments": {},
   "cell_type": "markdown",
   "metadata": {},
   "source": [
    "В отличие от знака $ и цифр встречаются символы '+', '-', '/', 'm', 'o'. В дальнейшем перебирая строки, где встречаются данные символы, установил, что связка символов '-' и '/mo' встречается в строках, где значение в колонке статус равен 'for rent'"
   ]
  },
  {
   "cell_type": "code",
   "execution_count": 10,
   "metadata": {},
   "outputs": [
    {
     "data": {
      "text/html": [
       "<div>\n",
       "<style scoped>\n",
       "    .dataframe tbody tr th:only-of-type {\n",
       "        vertical-align: middle;\n",
       "    }\n",
       "\n",
       "    .dataframe tbody tr th {\n",
       "        vertical-align: top;\n",
       "    }\n",
       "\n",
       "    .dataframe thead th {\n",
       "        text-align: right;\n",
       "    }\n",
       "</style>\n",
       "<table border=\"1\" class=\"dataframe\">\n",
       "  <thead>\n",
       "    <tr style=\"text-align: right;\">\n",
       "      <th></th>\n",
       "      <th>status</th>\n",
       "      <th>private pool</th>\n",
       "      <th>propertyType</th>\n",
       "      <th>street</th>\n",
       "      <th>baths</th>\n",
       "      <th>homeFacts</th>\n",
       "      <th>fireplace</th>\n",
       "      <th>city</th>\n",
       "      <th>schools</th>\n",
       "      <th>sqft</th>\n",
       "      <th>zipcode</th>\n",
       "      <th>beds</th>\n",
       "      <th>state</th>\n",
       "      <th>stories</th>\n",
       "      <th>mls-id</th>\n",
       "      <th>PrivatePool</th>\n",
       "      <th>MlsId</th>\n",
       "      <th>target</th>\n",
       "    </tr>\n",
       "  </thead>\n",
       "  <tbody>\n",
       "    <tr>\n",
       "      <th>330468</th>\n",
       "      <td>for rent</td>\n",
       "      <td>NaN</td>\n",
       "      <td>apartment</td>\n",
       "      <td>The Collette Apartments in Dallas</td>\n",
       "      <td>1-2 Baths</td>\n",
       "      <td>{'atAGlanceFacts': [{'factValue': '1964', 'fac...</td>\n",
       "      <td>NaN</td>\n",
       "      <td>Dallas</td>\n",
       "      <td>[{'rating': ['5/10', '5/10', '5/10'], 'data': ...</td>\n",
       "      <td>610-840 sqft</td>\n",
       "      <td>75206</td>\n",
       "      <td>1-2 Beds</td>\n",
       "      <td>TX</td>\n",
       "      <td>NaN</td>\n",
       "      <td>NaN</td>\n",
       "      <td>NaN</td>\n",
       "      <td>NaN</td>\n",
       "      <td>$1,215 - $1,437/mo</td>\n",
       "    </tr>\n",
       "  </tbody>\n",
       "</table>\n",
       "</div>"
      ],
      "text/plain": [
       "          status private pool propertyType                             street  \\\n",
       "330468  for rent          NaN    apartment  The Collette Apartments in Dallas   \n",
       "\n",
       "            baths                                          homeFacts  \\\n",
       "330468  1-2 Baths  {'atAGlanceFacts': [{'factValue': '1964', 'fac...   \n",
       "\n",
       "       fireplace    city                                            schools  \\\n",
       "330468       NaN  Dallas  [{'rating': ['5/10', '5/10', '5/10'], 'data': ...   \n",
       "\n",
       "                sqft zipcode      beds state stories mls-id PrivatePool MlsId  \\\n",
       "330468  610-840 sqft   75206  1-2 Beds    TX     NaN    NaN         NaN   NaN   \n",
       "\n",
       "                    target  \n",
       "330468  $1,215 - $1,437/mo  "
      ]
     },
     "metadata": {},
     "output_type": "display_data"
    }
   ],
   "source": [
    "mask = df['target'].str.contains('-')\n",
    "display(df[mask])\n",
    "# удалим данную строку\n",
    "df = df[~mask] "
   ]
  },
  {
   "attachments": {},
   "cell_type": "markdown",
   "metadata": {},
   "source": [
    "Проанализируем значения, где встречается цена аренды с подстрокой '/mo"
   ]
  },
  {
   "cell_type": "code",
   "execution_count": 11,
   "metadata": {},
   "outputs": [
    {
     "data": {
      "text/plain": [
       "count      397.000000\n",
       "mean      3229.556641\n",
       "std       4929.681152\n",
       "min        600.000000\n",
       "25%       1500.000000\n",
       "50%       2150.000000\n",
       "75%       3300.000000\n",
       "max      72500.000000\n",
       "Name: target, dtype: float64"
      ]
     },
     "metadata": {},
     "output_type": "display_data"
    },
    {
     "data": {
      "image/png": "[encoded data removed]",
      "text/plain": [
       "<Figure size 640x480 with 1 Axes>"
      ]
     },
     "metadata": {},
     "output_type": "display_data"
    }
   ],
   "source": [
    "mask = df['target'].str.contains('/mo')\n",
    "df_rent = df[mask].copy()\n",
    "pattern = r'(\\d*\\.\\d+|\\d+)'\n",
    "\n",
    "df_rent['target'] = df_rent['target'].str.replace(',','')\n",
    "df_rent[\"target\"] = pd.to_numeric(df_rent[\"target\"].str.extract(pattern)[0], downcast='float')\n",
    "\n",
    "display(df_rent['target'].describe())\n",
    "\n",
    "plt.boxplot(df_rent['target'])\n",
    "plt.show()\n"
   ]
  },
  {
   "attachments": {},
   "cell_type": "markdown",
   "metadata": {},
   "source": [
    "В основном диапазон аренды лежит до 35000. Примем данный факт к тому , что мы будем рассматривать продажи от 35000. \n",
    "\n",
    "Проанализируем сколько у нас записей  с ценой до 35000 в основном датасете"
   ]
  },
  {
   "attachments": {},
   "cell_type": "markdown",
   "metadata": {},
   "source": [
    "Преобразуем значения в колонке 'target'. "
   ]
  },
  {
   "cell_type": "code",
   "execution_count": 12,
   "metadata": {},
   "outputs": [],
   "source": [
    "pattern = r'(\\d*\\.\\d+|\\d+)'\n",
    "\n",
    "df['target'] = df['target'].str.replace(',','')\n",
    "df[\"target\"] = pd.to_numeric(df[\"target\"].str.extract(pattern)[0], downcast='float')\n"
   ]
  },
  {
   "cell_type": "code",
   "execution_count": 13,
   "metadata": {},
   "outputs": [
    {
     "data": {
      "text/plain": [
       "count    3.746690e+05\n",
       "mean     6.447391e+05\n",
       "std      1.841411e+06\n",
       "min      1.000000e+00\n",
       "25%      1.869900e+05\n",
       "50%      3.200000e+05\n",
       "75%      5.820000e+05\n",
       "max      1.950000e+08\n",
       "Name: target, dtype: float64"
      ]
     },
     "metadata": {},
     "output_type": "display_data"
    },
    {
     "name": "stdout",
     "output_type": "stream",
     "text": [
      "Число записей с ценой продажи меньше 35000 составляет: 17744\n"
     ]
    }
   ],
   "source": [
    "display(df['target'].describe())\n",
    "print('Число записей с ценой продажи меньше 35000 составляет: {}'.format(df[df['target']<35000].shape[0]))"
   ]
  },
  {
   "attachments": {},
   "cell_type": "markdown",
   "metadata": {},
   "source": [
    "Минамальная и максимальная цена составляют 1 и 195000000 соотвественно. Рассмотрим распределение цены. Построим графики цены."
   ]
  },
  {
   "cell_type": "code",
   "execution_count": 14,
   "metadata": {},
   "outputs": [
    {
     "data": {
      "text/plain": [
       "<AxesSubplot:>"
      ]
     },
     "execution_count": 14,
     "metadata": {},
     "output_type": "execute_result"
    },
    {
     "data": {
      "image/png": "[encoded data removed]",
      "text/plain": [
       "<Figure size 1500x800 with 2 Axes>"
      ]
     },
     "metadata": {},
     "output_type": "display_data"
    }
   ],
   "source": [
    "fig, ax = plt.subplots(1, 2, figsize=(15, 8))\n",
    "\n",
    "sns.boxplot(\n",
    "    data=df['target'],    \n",
    "    ax=ax[0]\n",
    ")\n",
    "\n",
    "mask = (df['target']>35000)&(df['target']<8000000)\n",
    "sns.boxplot(\n",
    "    data=df[mask]['target'],    \n",
    "    ax=ax[1]\n",
    ")"
   ]
  },
  {
   "attachments": {},
   "cell_type": "markdown",
   "metadata": {},
   "source": [
    "Первый график показывает распределение цены со всеми выбросами как вверхней так и нижней частях диапазона цены. Второй график учел аренду (от 35000), а так же выбросы цены свыше 8000000\n"
   ]
  },
  {
   "cell_type": "code",
   "execution_count": 15,
   "metadata": {},
   "outputs": [
    {
     "data": {
      "text/plain": [
       "(353746, 18)"
      ]
     },
     "execution_count": 15,
     "metadata": {},
     "output_type": "execute_result"
    }
   ],
   "source": [
    "mask = (df['target']>35000)&(df['target']<8000000)\n",
    "\n",
    "df = df[mask]\n",
    "df.shape"
   ]
  },
  {
   "attachments": {},
   "cell_type": "markdown",
   "metadata": {},
   "source": [
    "Разобьем наш датасет на основной и валидационный. Основной датасет будет необходим для поиска и обучения модели предсказания целевой метрики 'target', а валидационный датасет нам понадобиться на моменте проверки сервиса предсказания."
   ]
  },
  {
   "cell_type": "code",
   "execution_count": 16,
   "metadata": {},
   "outputs": [],
   "source": [
    "X = df.drop('target', axis=1)\n",
    "y = df['target']\n",
    "\n",
    "X_train, X_valid, y_train, y_valid = train_test_split(X, y, test_size=0.005, random_state=42)"
   ]
  },
  {
   "attachments": {},
   "cell_type": "markdown",
   "metadata": {},
   "source": [
    "Сохраним валидационный датасет в файлы формата csv"
   ]
  },
  {
   "cell_type": "code",
   "execution_count": 17,
   "metadata": {},
   "outputs": [],
   "source": [
    "X_valid.to_csv('data/df_X_valid.csv', index=False)\n",
    "y_valid.to_csv('data/df_y_valid.csv', index=False)"
   ]
  },
  {
   "cell_type": "code",
   "execution_count": 18,
   "metadata": {},
   "outputs": [],
   "source": [
    "df11 = pd.concat([X_train, y_train], axis=1)\n",
    "df11.to_csv('data/df11.csv', index=False)\n"
   ]
  },
  {
   "cell_type": "code",
   "execution_count": 19,
   "metadata": {},
   "outputs": [
    {
     "data": {
      "text/plain": [
       "(351977, 18)"
      ]
     },
     "execution_count": 19,
     "metadata": {},
     "output_type": "execute_result"
    }
   ],
   "source": [
    "df = pd.concat([X_train, y_train], axis=1)\n",
    "df.shape"
   ]
  },
  {
   "cell_type": "code",
   "execution_count": 20,
   "metadata": {},
   "outputs": [
    {
     "data": {
      "text/plain": [
       "for sale                146929\n",
       "Active                   96300\n",
       "For sale                 42322\n",
       "New construction          5403\n",
       "foreclosure               4495\n",
       "                         ...  \n",
       "Coming soon: Oct 21.         1\n",
       "Coming soon: Dec 1.          1\n",
       "Coming soon: Dec 12.         1\n",
       "Coming soon: Nov 17.         1\n",
       "Coming soon: Nov 14.         1\n",
       "Name: status, Length: 154, dtype: int64"
      ]
     },
     "execution_count": 20,
     "metadata": {},
     "output_type": "execute_result"
    }
   ],
   "source": [
    "df['status'].value_counts()"
   ]
  },
  {
   "attachments": {},
   "cell_type": "markdown",
   "metadata": {},
   "source": [
    "Больше 80% составляют объявления со статусами 'for sale', 'Active', 'For sale' (статус продажа). Поэтому рассматриваем, что у нас все записи, только продажа. Удалим колонку 'status'"
   ]
  },
  {
   "cell_type": "code",
   "execution_count": 21,
   "metadata": {},
   "outputs": [],
   "source": [
    "df = df.drop(['status'], axis=1)"
   ]
  },
  {
   "cell_type": "code",
   "execution_count": 22,
   "metadata": {},
   "outputs": [
    {
     "name": "stdout",
     "output_type": "stream",
     "text": [
      "column = \"private pool\"\n",
      "Yes    4061\n",
      "Name: private pool, dtype: int64\n",
      "=======================\n",
      "column = \"PrivetePool\"\n",
      "yes    27770\n",
      "Yes    11020\n",
      "Name: PrivatePool, dtype: int64\n"
     ]
    },
    {
     "data": {
      "text/html": [
       "<div>\n",
       "<style scoped>\n",
       "    .dataframe tbody tr th:only-of-type {\n",
       "        vertical-align: middle;\n",
       "    }\n",
       "\n",
       "    .dataframe tbody tr th {\n",
       "        vertical-align: top;\n",
       "    }\n",
       "\n",
       "    .dataframe thead th {\n",
       "        text-align: right;\n",
       "    }\n",
       "</style>\n",
       "<table border=\"1\" class=\"dataframe\">\n",
       "  <thead>\n",
       "    <tr style=\"text-align: right;\">\n",
       "      <th></th>\n",
       "      <th>private pool</th>\n",
       "      <th>propertyType</th>\n",
       "      <th>street</th>\n",
       "      <th>baths</th>\n",
       "      <th>homeFacts</th>\n",
       "      <th>fireplace</th>\n",
       "      <th>city</th>\n",
       "      <th>schools</th>\n",
       "      <th>sqft</th>\n",
       "      <th>zipcode</th>\n",
       "      <th>beds</th>\n",
       "      <th>state</th>\n",
       "      <th>stories</th>\n",
       "      <th>mls-id</th>\n",
       "      <th>PrivatePool</th>\n",
       "      <th>MlsId</th>\n",
       "      <th>target</th>\n",
       "    </tr>\n",
       "  </thead>\n",
       "  <tbody>\n",
       "    <tr>\n",
       "      <th>334830</th>\n",
       "      <td>Yes</td>\n",
       "      <td>Condo</td>\n",
       "      <td>4816 Amesbury Dr APT 227</td>\n",
       "      <td>Bathrooms: 2</td>\n",
       "      <td>{'atAGlanceFacts': [{'factValue': '1963', 'fac...</td>\n",
       "      <td>NaN</td>\n",
       "      <td>Dallas</td>\n",
       "      <td>[{'rating': ['9/10', '5/10', '5/10'], 'data': ...</td>\n",
       "      <td>Total interior livable area: 1,290 sqft</td>\n",
       "      <td>75206</td>\n",
       "      <td>2 bd</td>\n",
       "      <td>TX</td>\n",
       "      <td>1.0</td>\n",
       "      <td>14229122</td>\n",
       "      <td>NaN</td>\n",
       "      <td>NaN</td>\n",
       "      <td>242000.0</td>\n",
       "    </tr>\n",
       "    <tr>\n",
       "      <th>60617</th>\n",
       "      <td>Yes</td>\n",
       "      <td>Single Family</td>\n",
       "      <td>13350 Twin Lake Ave</td>\n",
       "      <td>Bathrooms: 2</td>\n",
       "      <td>{'atAGlanceFacts': [{'factValue': '1985', 'fac...</td>\n",
       "      <td>Yes</td>\n",
       "      <td>Spring Hill</td>\n",
       "      <td>[{'rating': ['5/10', '6/10', '5/10'], 'data': ...</td>\n",
       "      <td>Total interior livable area: 1,700 sqft</td>\n",
       "      <td>34609</td>\n",
       "      <td>3 bd</td>\n",
       "      <td>FL</td>\n",
       "      <td>1.0</td>\n",
       "      <td>U8060188</td>\n",
       "      <td>NaN</td>\n",
       "      <td>NaN</td>\n",
       "      <td>196500.0</td>\n",
       "    </tr>\n",
       "  </tbody>\n",
       "</table>\n",
       "</div>"
      ],
      "text/plain": [
       "       private pool   propertyType                    street         baths  \\\n",
       "334830          Yes          Condo  4816 Amesbury Dr APT 227  Bathrooms: 2   \n",
       "60617           Yes  Single Family       13350 Twin Lake Ave  Bathrooms: 2   \n",
       "\n",
       "                                                homeFacts fireplace  \\\n",
       "334830  {'atAGlanceFacts': [{'factValue': '1963', 'fac...       NaN   \n",
       "60617   {'atAGlanceFacts': [{'factValue': '1985', 'fac...       Yes   \n",
       "\n",
       "               city                                            schools  \\\n",
       "334830       Dallas  [{'rating': ['9/10', '5/10', '5/10'], 'data': ...   \n",
       "60617   Spring Hill  [{'rating': ['5/10', '6/10', '5/10'], 'data': ...   \n",
       "\n",
       "                                           sqft zipcode  beds state stories  \\\n",
       "334830  Total interior livable area: 1,290 sqft   75206  2 bd    TX     1.0   \n",
       "60617   Total interior livable area: 1,700 sqft   34609  3 bd    FL     1.0   \n",
       "\n",
       "          mls-id PrivatePool MlsId    target  \n",
       "334830  14229122         NaN   NaN  242000.0  \n",
       "60617   U8060188         NaN   NaN  196500.0  "
      ]
     },
     "execution_count": 22,
     "metadata": {},
     "output_type": "execute_result"
    }
   ],
   "source": [
    "print('column = \"private pool\"')\n",
    "print(df['private pool'].value_counts())\n",
    "print('=======================')\n",
    "print('column = \"PrivetePool\"')\n",
    "print(df['PrivatePool'].value_counts())\n",
    "df[df['private pool']=='Yes'].head(2)"
   ]
  },
  {
   "attachments": {},
   "cell_type": "markdown",
   "metadata": {},
   "source": [
    "В колонке \"private pool\" присутствуют значения только одного вида \"Yes\", а в колонке \"PrivatePool\" присутствуют значения вида \"yes\" и \"Yes\". Так же существуют строки, в которых заполнено значение в колонке \"private pool\" и не заполнено значение в колонке \"PrivatePool\". Поэтому заполним пустые значения в колонке \"PrivatePool\" значениями \"private pool\", так же заменим Yes, yes на 1, а пустые значения нулями и удалим колонку \"private pool\"   "
   ]
  },
  {
   "cell_type": "code",
   "execution_count": 23,
   "metadata": {},
   "outputs": [],
   "source": [
    "df['PrivatePool'] = df['PrivatePool'].fillna(df['private pool'])\n",
    "df['PrivatePool'] = df['PrivatePool'].apply(lambda x: 1 if x=='Yes' or x=='yes' else 0)\n",
    "\n",
    "df = df.drop(['private pool'], axis=1)"
   ]
  },
  {
   "cell_type": "code",
   "execution_count": 24,
   "metadata": {},
   "outputs": [
    {
     "data": {
      "text/plain": [
       "single-family home               88232\n",
       "Single Family                    60627\n",
       "Single Family Home               31194\n",
       "condo                            25365\n",
       "Condo                            16205\n",
       "lot/land                         14426\n",
       "townhouse                        11213\n",
       "Condo/Townhome/Row Home/Co-Op     7623\n",
       "multi-family                      7498\n",
       "Townhouse                         6811\n",
       "Land                              5931\n",
       "Traditional                       5864\n",
       "coop                              3181\n",
       "Multi Family                      2646\n",
       "High Rise                         1803\n",
       "Ranch                             1752\n",
       "Detached, One Story               1603\n",
       "Single Detached, Traditional      1568\n",
       "Contemporary                      1547\n",
       "Multi-Family Home                 1416\n",
       "Name: propertyType, dtype: int64"
      ]
     },
     "metadata": {},
     "output_type": "display_data"
    },
    {
     "name": "stdout",
     "output_type": "stream",
     "text": [
      "Количество уникальных: 1266\n",
      "Количество пустых значений: 30816\n"
     ]
    }
   ],
   "source": [
    "display(df['propertyType'].value_counts().head(20))\n",
    "print('Количество уникальных:',len(df['propertyType'].value_counts().to_list()))\n",
    "print('Количество пустых значений:', df['propertyType'].isna().sum())"
   ]
  },
  {
   "attachments": {},
   "cell_type": "markdown",
   "metadata": {},
   "source": [
    "У нас в колонке 'propertyType' 1266 уникальных элемента, но видно, что есть элементы похожие, но по разному написанные. \n",
    "Сделаем следующее:\n",
    "* Всем пустым значениям присвоим значение 'other'\n",
    "* Переведем все значения в нижний регистр \n",
    "* Доставим к каждому значению строку 'other'. Когда будем объединять в группы, заменяя значения, то оставшиеся элементы найдем по вхождени. подстроки 'other'  \n",
    "* Создадим список групп\n",
    "* в колонке 'propertyType' заменим все значения на значения из списка групп. "
   ]
  },
  {
   "cell_type": "code",
   "execution_count": 25,
   "metadata": {},
   "outputs": [
    {
     "name": "stdout",
     "output_type": "stream",
     "text": [
      "Количество уникальных элементов в колонке \"propertyType\": 20\n",
      "['land' 'single' 'townhouse' 'condo' 'contemporary' 'detached' 'coop'\n",
      " 'traditional' 'ranch' '1 story' '2 story' 'multi' 'craft' 'other'\n",
      " 'mobile' 'high rise' 'colonial' 'garden' 'low-rise' '3 stor']\n"
     ]
    }
   ],
   "source": [
    "df['propertyType'] = df['propertyType'].fillna(df['propertyType'].mode()[0])\n",
    "\n",
    "# === Пишем в словарь констант\n",
    "const_dict['propertyType'] = df['propertyType'].mode()[0] \n",
    "# ===\n",
    "\n",
    "df['propertyType'] = df['propertyType'].str.lower()\n",
    "df['propertyType'] = df['propertyType'].apply(lambda x: x+' other')\n",
    "\n",
    "lst_propertyType = ['single', 'condo', ['land', 'lot'], ['townhouse','townhome'], 'multi', 'traditional', \n",
    "                    ['coop', 'co-op'], ['ranch', 'farm'], 'high rise', ['low-rise', 'low'], 'detached', 'mobile', ['contemporary','modern'],\n",
    "                    ['1 story', '1', 'one story'], ['2 story', '2', '2 stories', 'two stories', 'two story', 'stories'], ['3 stor', '3'], ['colonial', 'transitional', 'historical'],\n",
    "                    ['garden', 'cluster home'], \n",
    "                    ['craft', 'cottage', 'tri-level', 'bungalow', 'cape', 'spanish', 'mediterranean', 'victorian', 'florida', 'french', 'georgian', 'loft', 'art', 'tudor'],\n",
    "                    ['other', 'custom', 'manufactured']]\n",
    "\n",
    "mask_nan = df['propertyType'].isna()\n",
    "\n",
    "for item in lst_propertyType:\n",
    "    if type(item)==list:\n",
    "        for ind, prprt in enumerate(item):\n",
    "            df['propertyType'].where(~(df[~mask_nan].propertyType.str.contains(prprt) ), other=item[0], inplace=True)\n",
    "    else:\n",
    "        df['propertyType'].where(~(df[~mask_nan].propertyType.str.contains(item) ), other=item, inplace=True) \n",
    "        \n",
    " \n",
    "print('Количество уникальных элементов в колонке \"propertyType\":', df['propertyType'].nunique())\n",
    "print(df['propertyType'].unique())\n"
   ]
  },
  {
   "attachments": {},
   "cell_type": "markdown",
   "metadata": {},
   "source": [
    "Вместо 1266 будет 20 уникальных параметров в колонке 'propertyType'"
   ]
  },
  {
   "cell_type": "code",
   "execution_count": 26,
   "metadata": {},
   "outputs": [
    {
     "data": {
      "text/plain": [
       "single          214419\n",
       "condo            50179\n",
       "land             20384\n",
       "townhouse        18205\n",
       "multi            11857\n",
       "traditional       7478\n",
       "coop              3731\n",
       "contemporary      3404\n",
       "mobile            2990\n",
       "craft             2870\n",
       "ranch             2868\n",
       "detached          2498\n",
       "1 story           2207\n",
       "other             2207\n",
       "high rise         1926\n",
       "colonial          1817\n",
       "2 story           1758\n",
       "low-rise           666\n",
       "garden             499\n",
       "3 stor              14\n",
       "Name: propertyType, dtype: int64"
      ]
     },
     "execution_count": 26,
     "metadata": {},
     "output_type": "execute_result"
    }
   ],
   "source": [
    "df['propertyType'].value_counts()"
   ]
  },
  {
   "attachments": {},
   "cell_type": "markdown",
   "metadata": {},
   "source": [
    "Пустые значения в колонках 'baths' и 'beds' заменим значения медианным значением, предарительно сгруппировав по колонке 'zipcode'. После все пустые значения поставим 0 \n",
    "\n",
    "Если присутствуют значения в колонке 'fareplace', то ставим 1, в остальных случаях 0"
   ]
  },
  {
   "cell_type": "code",
   "execution_count": 27,
   "metadata": {},
   "outputs": [],
   "source": [
    "# Преобразуем колонку 'baths' и 'beds'\n",
    "pattern = r'(\\d*\\.\\d+|\\d+)'\n",
    "df[\"baths\"] = pd.to_numeric(df[\"baths\"].str.extract(pattern)[0], downcast='float')\n",
    "df[\"beds\"] = pd.to_numeric(df[\"beds\"].str.extract(pattern)[0], downcast='float')\n",
    "\n",
    "# === Пишем в словарь констант\n",
    "const_dict['baths_group'] = df.groupby(\"zipcode\")[\"baths\"].transform(\"median\") \n",
    "const_dict['beds_group'] = df.groupby(\"zipcode\")[\"beds\"].transform(\"median\")\n",
    "const_dict['baths'] = df[\"baths\"].median() \n",
    "const_dict['beds'] = df[\"beds\"].median()\n",
    "# ===\n",
    "\n",
    "df[\"baths\"] = df[\"baths\"].fillna(df.groupby(\"zipcode\")[\"baths\"].transform(\"median\"))\n",
    "df[\"baths\"] = df[\"baths\"].fillna(0)\n",
    "\n",
    "\n",
    "df[\"beds\"] = df[\"beds\"].fillna(df.groupby(\"zipcode\")[\"beds\"].transform(\"median\"))\n",
    "df[\"beds\"] = df[\"beds\"].fillna(0)\n",
    "\n",
    "df['fireplace'] = df['fireplace'].fillna('0')\n",
    "df['fireplace'] = df['fireplace'].apply(lambda x: 0 if x.lower() in ['0', 'no', 'not applicable'] else 1)\n",
    "\n",
    "# Удалим лишнии колонки\n",
    "df = df.drop(columns=['street', 'stories', 'mls-id', 'MlsId'], axis=1)\n"
   ]
  },
  {
   "attachments": {},
   "cell_type": "markdown",
   "metadata": {},
   "source": [
    "Распарсим колонки 'homeFacts' и 'schools' и создадим новые колонки"
   ]
  },
  {
   "cell_type": "code",
   "execution_count": 28,
   "metadata": {},
   "outputs": [
    {
     "data": {
      "text/plain": [
       "(351977, 23)"
      ]
     },
     "execution_count": 28,
     "metadata": {},
     "output_type": "execute_result"
    }
   ],
   "source": [
    "df = parsing_homeFacts(df)\n",
    "df = parsing_schools(df)\n",
    "df.shape"
   ]
  },
  {
   "cell_type": "code",
   "execution_count": 29,
   "metadata": {},
   "outputs": [
    {
     "name": "stdout",
     "output_type": "stream",
     "text": [
      "Количество неопределенных значений 3074\n",
      "Количество пустых значений 44976\n",
      "Количество No Data 1135\n"
     ]
    }
   ],
   "source": [
    "print('Количество неопределенных значений {}'.format(df['Year built'].isna().sum()))\n",
    "print('Количество пустых значений {}'.format(df[df['Year built']=='']['Year built'].count()))\n",
    "print('Количество No Data {}'.format(df[df['Year built']=='No Data']['Year built'].count()))"
   ]
  },
  {
   "attachments": {},
   "cell_type": "markdown",
   "metadata": {},
   "source": [
    "В колонках 'Year build' Пустые значения заменим на np.nan. Так же в данных присутствуют значения, отличного от принятого четырехзначного года. Используем паттерн вида (^\\d{4}$) и приводим все значения к виду гггг."
   ]
  },
  {
   "cell_type": "code",
   "execution_count": 30,
   "metadata": {},
   "outputs": [],
   "source": [
    "df['Year built'] = df['Year built'].replace('',np.nan)\n",
    "df['Year built'] = df['Year built'].replace('No Data',np.nan)\n",
    "pattern = r'(^\\d{4}$)'\n",
    "df['Year built'] = df['Year built'].str.extract(pattern)[0]"
   ]
  },
  {
   "cell_type": "code",
   "execution_count": 31,
   "metadata": {},
   "outputs": [
    {
     "name": "stdout",
     "output_type": "stream",
     "text": [
      "========== Year built =========\n"
     ]
    },
    {
     "data": {
      "text/plain": [
       "count    302788.000000\n",
       "mean       1980.011919\n",
       "std          33.339058\n",
       "min        1019.000000\n",
       "25%        1958.000000\n",
       "50%        1986.000000\n",
       "75%        2007.000000\n",
       "max        2025.000000\n",
       "Name: Year built, dtype: float64"
      ]
     },
     "metadata": {},
     "output_type": "display_data"
    }
   ],
   "source": [
    "s_year = pd.to_numeric(df['Year built'])\n",
    "print('========== Year built =========')\n",
    "display(s_year.describe())"
   ]
  },
  {
   "attachments": {},
   "cell_type": "markdown",
   "metadata": {},
   "source": [
    "В датасете значения в колонке 'Year build' варьируются в интервале от 1019 до 2025 года.\n",
    "\n",
    "Пустые значения заполним средним значением\n",
    "\n",
    "Разобьем года постройки на интервалы с 1850 по 2010 с шагом в 10 лет. и запишим в новую колонку 'interval_year'."
   ]
  },
  {
   "cell_type": "code",
   "execution_count": 32,
   "metadata": {},
   "outputs": [],
   "source": [
    "# === Пишем в словарь констант\n",
    "const_dict['Year built'] = str(int(s_year.quantile()))\n",
    "# ===\n",
    "\n",
    "df['Year built'].fillna(str(int(s_year.quantile())), inplace=True) \n",
    "# парсим значения в колонке 'Year build' и записываем новые значения в колонку 'intervcal_year'\n",
    "df = parsing_year_build(df)"
   ]
  },
  {
   "attachments": {},
   "cell_type": "markdown",
   "metadata": {},
   "source": [
    "Изменения значений в колонке 'Remodeled year':\n",
    "1. Все пустые значения и 'No Data' меняем на np.nan\n",
    "2. все np.nan меняем на 0, а остальные на 1 "
   ]
  },
  {
   "cell_type": "code",
   "execution_count": 33,
   "metadata": {},
   "outputs": [],
   "source": [
    "pattern = r'(^\\d{4}$)'\n",
    "df['Remodeled year'] = df['Remodeled year'].str.extract(pattern)[0]\n",
    "df['Remodeled year'] = df['Remodeled year'].fillna(0)\n",
    "\n",
    "df['Remodeled year'] = df['Remodeled year'].apply(lambda x: 0 if x==0 else 1)"
   ]
  },
  {
   "cell_type": "code",
   "execution_count": 34,
   "metadata": {},
   "outputs": [
    {
     "data": {
      "text/plain": [
       "                   4386\n",
       "No Data            1005\n",
       "No Info             877\n",
       "$125/sqft           785\n",
       "$115/sqft           765\n",
       "                   ... \n",
       "$1,763                1\n",
       "$2,020/sqft           1\n",
       "$2,833/sqft           1\n",
       "$2,213/sqft           1\n",
       "$1931 / Sq. Ft.       1\n",
       "Name: Price/sqft, Length: 5654, dtype: int64"
      ]
     },
     "metadata": {},
     "output_type": "display_data"
    }
   ],
   "source": [
    "display(df['Price/sqft'].value_counts())"
   ]
  },
  {
   "attachments": {},
   "cell_type": "markdown",
   "metadata": {},
   "source": [
    "преобразуем все значения в колонках \"Price/sqft\" и \"sqft\" следующим образом:\n",
    "1. Заменим \",\" на \"\"\n",
    "2. Получим только цифры\n",
    "3. Заполним все пустые значения медианой, предварительно сгруппировав по 'zipcode'\n",
    "4. Оставшиеся пустые значения заполним медианой"
   ]
  },
  {
   "cell_type": "code",
   "execution_count": 35,
   "metadata": {},
   "outputs": [],
   "source": [
    "\n",
    "df['price/sqft'] = df['Price/sqft'].str.replace(',','')\n",
    "pattern = r'\\b(\\d+)\\b'\n",
    "df['price/sqft'] = pd.to_numeric(df['price/sqft'].str.extract(pattern)[0])\n",
    "\n",
    "df['sqft'] = df['sqft'].str.replace(',','')\n",
    "df['sqft'] = pd.to_numeric(df['sqft'].str.extract(pattern)[0])\n",
    "\n",
    "const_dict['price/sqft_group'] = df.groupby(\"zipcode\")[\"price/sqft\"].transform(\"median\")\n",
    "df[\"price/sqft\"] = df[\"price/sqft\"].fillna(df.groupby(\"zipcode\")[\"price/sqft\"].transform(\"median\"))\n",
    "\n",
    "const_dict['sqft_group'] = df.groupby(\"zipcode\")[\"sqft\"].transform(\"median\")\n",
    "df[\"sqft\"] = df[\"sqft\"].fillna(df.groupby(\"zipcode\")[\"sqft\"].transform(\"median\"))\n",
    "\n",
    "const_dict['price/sqft'] = df[\"price/sqft\"].median()\n",
    "df[\"price/sqft\"] = df[\"price/sqft\"].fillna(df[\"price/sqft\"].median())\n",
    "\n",
    "const_dict['sqft'] = df[\"sqft\"].median()\n",
    "df[\"sqft\"] = df[\"sqft\"].fillna(df[\"sqft\"].median())\n"
   ]
  },
  {
   "cell_type": "code",
   "execution_count": 36,
   "metadata": {},
   "outputs": [
    {
     "data": {
      "text/plain": [
       "count    3.519770e+05\n",
       "mean     4.139980e+03\n",
       "std      7.700724e+05\n",
       "min      0.000000e+00\n",
       "25%      1.300000e+03\n",
       "50%      1.820000e+03\n",
       "75%      2.551000e+03\n",
       "max      4.566025e+08\n",
       "Name: sqft, dtype: float64"
      ]
     },
     "metadata": {},
     "output_type": "display_data"
    },
    {
     "data": {
      "image/png": "[encoded data removed]",
      "text/plain": [
       "<Figure size 1500x800 with 2 Axes>"
      ]
     },
     "metadata": {},
     "output_type": "display_data"
    }
   ],
   "source": [
    "display(df['sqft'].describe())\n",
    "\n",
    "fig, ax = plt.subplots(1, 2, figsize=(15, 8))\n",
    "\n",
    "sns.boxplot(\n",
    "    data=df['sqft'],    \n",
    "    ax=ax[0]\n",
    ")\n",
    "ax[0].set_title('Распределение \"sqft\"')\n",
    "ax[0].grid()\n",
    "\n",
    "mask = df['sqft']<25000\n",
    "sns.boxplot(\n",
    "    data=df[mask]['sqft'],    \n",
    "    ax=ax[1]\n",
    ")\n",
    "ax[1].set_title('Распределение \"sqft\" < 25000')\n",
    "ax[1].grid()"
   ]
  },
  {
   "attachments": {},
   "cell_type": "markdown",
   "metadata": {},
   "source": [
    "Значения параметра 'sqft' лежат в диапазоне от 0 до 457000000. \n",
    "\n",
    "На графике слева показано распределение парамметра 'sqft' основного датасета. На графике справа показано распределение параметра 'sqft', где значения не превышают 25000. \n",
    "Исследования показали, что 99% записей лежит в диапазоне от 0 до 25000"
   ]
  },
  {
   "cell_type": "code",
   "execution_count": 37,
   "metadata": {},
   "outputs": [
    {
     "name": "stdout",
     "output_type": "stream",
     "text": [
      "Процент записей в датасете, значения параметра \"sqft\" не превышают 25000: 99.61%\n"
     ]
    }
   ],
   "source": [
    "mask25000 = df['sqft']<25000\n",
    "print('Процент записей в датасете, значения параметра \"sqft\" не превышают 25000: {:.2f}%'.format(df[mask25000].shape[0]/df.shape[0]*100))"
   ]
  },
  {
   "cell_type": "code",
   "execution_count": 38,
   "metadata": {},
   "outputs": [],
   "source": [
    "# Удалим записи, где значения параметра 'sqft' превышают 25000\n",
    "df = df[mask25000]"
   ]
  },
  {
   "cell_type": "code",
   "execution_count": 39,
   "metadata": {},
   "outputs": [
    {
     "data": {
      "text/plain": [
       "count    3.505990e+05\n",
       "mean     4.483012e+02\n",
       "std      2.156328e+04\n",
       "min      0.000000e+00\n",
       "25%      1.250000e+02\n",
       "50%      1.770000e+02\n",
       "75%      2.990000e+02\n",
       "max      5.950000e+06\n",
       "Name: price/sqft, dtype: float64"
      ]
     },
     "metadata": {},
     "output_type": "display_data"
    },
    {
     "data": {
      "image/png": "[encoded data removed]",
      "text/plain": [
       "<Figure size 1500x800 with 2 Axes>"
      ]
     },
     "metadata": {},
     "output_type": "display_data"
    }
   ],
   "source": [
    "display(df['price/sqft'].describe())\n",
    "\n",
    "fig, ax = plt.subplots(1, 2, figsize=(15, 8))\n",
    "\n",
    "sns.boxplot(\n",
    "    data=df['price/sqft'],    \n",
    "    ax=ax[0]\n",
    ")\n",
    "ax[0].set_title('Распределение \"price/sqft\"')\n",
    "ax[0].grid()\n",
    "\n",
    "mask = df['price/sqft']<3000\n",
    "sns.boxplot(\n",
    "    data=df[mask]['price/sqft'],    \n",
    "    ax=ax[1]\n",
    ")\n",
    "ax[1].set_title('Распределение \"price/sqft\" < 3000')\n",
    "ax[1].grid()"
   ]
  },
  {
   "attachments": {},
   "cell_type": "markdown",
   "metadata": {},
   "source": [
    "Значения параметра 'price/sqft' лежат в диапазоне от 0 до 5950000. \n",
    "\n",
    "На графике слева показано распределение парамметра 'price/sqft' основного датасета. На графике справа показано распределение параметра 'price/sqft', где значения не превышают 3000. \n",
    "Исследования показали, что 99% записей лежит в диапазоне от 0 до 3000"
   ]
  },
  {
   "cell_type": "code",
   "execution_count": 40,
   "metadata": {},
   "outputs": [
    {
     "name": "stdout",
     "output_type": "stream",
     "text": [
      "Процент записей в датасете, значения параметра \"price/sqft\" не превышают 25000: 99.93%\n"
     ]
    }
   ],
   "source": [
    "mask3000 = df['price/sqft']<3000\n",
    "print('Процент записей в датасете, значения параметра \"price/sqft\" не превышают 25000: {:.2f}%'.format(df[mask3000].shape[0]/df.shape[0]*100))"
   ]
  },
  {
   "cell_type": "code",
   "execution_count": 41,
   "metadata": {},
   "outputs": [],
   "source": [
    "# Удалим записи, где значения параметра 'price/sqft' превышают 3000\n",
    "df = df[mask3000]"
   ]
  },
  {
   "cell_type": "code",
   "execution_count": 42,
   "metadata": {},
   "outputs": [],
   "source": [
    "# Удалим лишнии колонки\n",
    "df = df.drop(columns=['lotsize', 'Price/sqft'], axis=1)"
   ]
  },
  {
   "cell_type": "code",
   "execution_count": 43,
   "metadata": {},
   "outputs": [
    {
     "data": {
      "text/plain": [
       "Central                                        154610\n",
       "                                               100534\n",
       "Central Air                                     14275\n",
       "No Data                                         10093\n",
       "Has Cooling                                      9577\n",
       "                                                ...  \n",
       "Heat Pump, Other Cooling                            1\n",
       "Gas (Hot Air), Propane, Other (See Remarks)         1\n",
       "Other, Wall, Refrigeration                          1\n",
       "Electric Heating, Individual Heating                1\n",
       "1 Unit, Baseboard - Hotwater, Multi-Zone            1\n",
       "Name: Cooling, Length: 1431, dtype: int64"
      ]
     },
     "execution_count": 43,
     "metadata": {},
     "output_type": "execute_result"
    }
   ],
   "source": [
    "df['Cooling'].value_counts()"
   ]
  },
  {
   "attachments": {},
   "cell_type": "markdown",
   "metadata": {},
   "source": [
    "Значения в колонках \"Cooling\", \"Heating\", \"Parking\" заменим: 0 если \"No Data\", '', 'None' и 1 во всех остальных случаях\n"
   ]
  },
  {
   "cell_type": "code",
   "execution_count": 44,
   "metadata": {},
   "outputs": [],
   "source": [
    "df['Cooling'] = df['Cooling'].fillna('0') \n",
    "df['Cooling'] = df['Cooling'].apply(lambda x: 0 if x.lower() in ['','no data', 'none'] else 1)\n",
    "\n",
    "df['Heating'] = df['Heating'].fillna('0') \n",
    "df['Heating'] = df['Heating'].apply(lambda x: 0 if x.lower() in ['','no data', 'none'] else 1)\n",
    "\n",
    "df['Parking'] = df['Parking'].fillna('0')\n",
    "df['Parking'] = df['Parking'].apply(lambda x: 0 if x.lower() in ['','no data', 'none'] else 1)"
   ]
  },
  {
   "cell_type": "code",
   "execution_count": 45,
   "metadata": {},
   "outputs": [
    {
     "name": "stdout",
     "output_type": "stream",
     "text": [
      "======= Cooling =======\n"
     ]
    },
    {
     "data": {
      "text/plain": [
       "1    232883\n",
       "0    117470\n",
       "Name: Cooling, dtype: int64"
      ]
     },
     "metadata": {},
     "output_type": "display_data"
    },
    {
     "name": "stdout",
     "output_type": "stream",
     "text": [
      "======= Heating =======\n"
     ]
    },
    {
     "data": {
      "text/plain": [
       "1    252356\n",
       "0     97997\n",
       "Name: Heating, dtype: int64"
      ]
     },
     "metadata": {},
     "output_type": "display_data"
    },
    {
     "name": "stdout",
     "output_type": "stream",
     "text": [
      "======= Parking =======\n"
     ]
    },
    {
     "data": {
      "text/plain": [
       "1    183293\n",
       "0    167060\n",
       "Name: Parking, dtype: int64"
      ]
     },
     "metadata": {},
     "output_type": "display_data"
    }
   ],
   "source": [
    "print('======= Cooling =======')\n",
    "display(df['Cooling'].value_counts())\n",
    "\n",
    "print('======= Heating =======')\n",
    "display(df['Heating'].value_counts())\n",
    "\n",
    "print('======= Parking =======')\n",
    "display(df['Parking'].value_counts())"
   ]
  },
  {
   "cell_type": "code",
   "execution_count": 46,
   "metadata": {},
   "outputs": [
    {
     "name": "stdout",
     "output_type": "stream",
     "text": [
      "<class 'pandas.core.frame.DataFrame'>\n",
      "Int64Index: 350353 entries, 360897 to 129936\n",
      "Data columns (total 22 columns):\n",
      " #   Column          Non-Null Count   Dtype  \n",
      "---  ------          --------------   -----  \n",
      " 0   propertyType    350353 non-null  object \n",
      " 1   baths           350353 non-null  float32\n",
      " 2   fireplace       350353 non-null  int64  \n",
      " 3   city            350353 non-null  object \n",
      " 4   sqft            350353 non-null  float64\n",
      " 5   zipcode         350353 non-null  object \n",
      " 6   beds            350353 non-null  float32\n",
      " 7   state           350353 non-null  object \n",
      " 8   PrivatePool     350353 non-null  int64  \n",
      " 9   target          350353 non-null  float32\n",
      " 10  Remodeled year  350353 non-null  int64  \n",
      " 11  Parking         350353 non-null  int64  \n",
      " 12  Heating         350353 non-null  int64  \n",
      " 13  Cooling         350353 non-null  int64  \n",
      " 14  Elementary      350353 non-null  float64\n",
      " 15  Middle          350353 non-null  float64\n",
      " 16  High            350353 non-null  float64\n",
      " 17  Other           350353 non-null  float64\n",
      " 18  Rating          350353 non-null  float64\n",
      " 19  Distance        350353 non-null  float64\n",
      " 20  interval_year   350353 non-null  object \n",
      " 21  price/sqft      350353 non-null  float64\n",
      "dtypes: float32(3), float64(8), int64(6), object(5)\n",
      "memory usage: 57.5+ MB\n"
     ]
    }
   ],
   "source": [
    "df.info()"
   ]
  },
  {
   "cell_type": "code",
   "execution_count": 47,
   "metadata": {},
   "outputs": [
    {
     "data": {
      "text/plain": [
       "propertyType      0\n",
       "baths             0\n",
       "fireplace         0\n",
       "city              0\n",
       "sqft              0\n",
       "zipcode           0\n",
       "beds              0\n",
       "state             0\n",
       "PrivatePool       0\n",
       "target            0\n",
       "Remodeled year    0\n",
       "Parking           0\n",
       "Heating           0\n",
       "Cooling           0\n",
       "Elementary        0\n",
       "Middle            0\n",
       "High              0\n",
       "Other             0\n",
       "Rating            0\n",
       "Distance          0\n",
       "interval_year     0\n",
       "price/sqft        0\n",
       "dtype: int64"
      ]
     },
     "execution_count": 47,
     "metadata": {},
     "output_type": "execute_result"
    }
   ],
   "source": [
    "df.isna().sum()"
   ]
  },
  {
   "attachments": {},
   "cell_type": "markdown",
   "metadata": {},
   "source": [
    "Данные очищены. Запишим их в отдельный файл"
   ]
  },
  {
   "cell_type": "code",
   "execution_count": 48,
   "metadata": {},
   "outputs": [],
   "source": [
    "# Производим сериализацию и записываем dataframe в файл формата pkl\n",
    "with open('data/df_clean.pkl', 'wb') as output:\n",
    "    pickle.dump(df, output)"
   ]
  },
  {
   "cell_type": "code",
   "execution_count": 49,
   "metadata": {},
   "outputs": [],
   "source": [
    "# Производим сериализацию и записываем справочник констант в файл формата pkl в папку 'libs'\n",
    "with open('../libs/data/const_dict.pkl', 'wb') as output:\n",
    "    pickle.dump(const_dict, output)"
   ]
  },
  {
   "attachments": {},
   "cell_type": "markdown",
   "metadata": {},
   "source": [
    "В дальнейшем, на очищенных данных, мы проведем подбор модели для предсказания целевой метрики и обучим ее.  "
   ]
  }
 ],
 "metadata": {
  "kernelspec": {
   "display_name": "Python 3",
   "language": "python",
   "name": "python3"
  },
  "language_info": {
   "codemirror_mode": {
    "name": "ipython",
    "version": 3
   },
   "file_extension": ".py",
   "mimetype": "text/x-python",
   "name": "python",
   "nbconvert_exporter": "python",
   "pygments_lexer": "ipython3",
   "version": "3.9.1"
  },
  "orig_nbformat": 4
 },
 "nbformat": 4,
 "nbformat_minor": 2
}
