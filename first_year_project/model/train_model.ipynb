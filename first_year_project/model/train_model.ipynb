{
 "cells": [
  {
   "cell_type": "code",
   "execution_count": 47,
   "metadata": {},
   "outputs": [],
   "source": [
    "import pickle\n",
    "import pandas as pd\n",
    "import numpy as np\n",
    "import category_encoders as ce\n",
    "\n",
    "from sklearn import metrics\n",
    "from sklearn.preprocessing import StandardScaler, MinMaxScaler\n",
    "from sklearn.model_selection import train_test_split\n",
    "from sklearn.linear_model import LinearRegression\n",
    "from sklearn.ensemble import RandomForestRegressor\n",
    "from sklearn.ensemble import AdaBoostRegressor\n",
    "from sklearn.tree import DecisionTreeRegressor\n",
    "from sklearn.ensemble import GradientBoostingRegressor\n",
    "\n",
    "import hyperopt\n",
    "from hyperopt import hp, fmin, tpe, Trials\n",
    "\n",
    "import matplotlib.pyplot as plt\n",
    "import seaborn as sns\n"
   ]
  },
  {
   "cell_type": "code",
   "execution_count": 48,
   "metadata": {},
   "outputs": [],
   "source": [
    "# подгрузим константы\n",
    "\n",
    "with open('../libs/data/const_dict.pkl', 'rb') as pkl_file:\n",
    "    const_dict = pickle.load(pkl_file)"
   ]
  },
  {
   "cell_type": "code",
   "execution_count": 49,
   "metadata": {},
   "outputs": [
    {
     "data": {
      "text/html": [
       "<div>\n",
       "<style scoped>\n",
       "    .dataframe tbody tr th:only-of-type {\n",
       "        vertical-align: middle;\n",
       "    }\n",
       "\n",
       "    .dataframe tbody tr th {\n",
       "        vertical-align: top;\n",
       "    }\n",
       "\n",
       "    .dataframe thead th {\n",
       "        text-align: right;\n",
       "    }\n",
       "</style>\n",
       "<table border=\"1\" class=\"dataframe\">\n",
       "  <thead>\n",
       "    <tr style=\"text-align: right;\">\n",
       "      <th></th>\n",
       "      <th>propertyType</th>\n",
       "      <th>baths</th>\n",
       "      <th>fireplace</th>\n",
       "      <th>city</th>\n",
       "      <th>sqft</th>\n",
       "      <th>zipcode</th>\n",
       "      <th>beds</th>\n",
       "      <th>state</th>\n",
       "      <th>PrivatePool</th>\n",
       "      <th>target</th>\n",
       "      <th>...</th>\n",
       "      <th>Heating</th>\n",
       "      <th>Cooling</th>\n",
       "      <th>Elementary</th>\n",
       "      <th>Middle</th>\n",
       "      <th>High</th>\n",
       "      <th>Other</th>\n",
       "      <th>Rating</th>\n",
       "      <th>Distance</th>\n",
       "      <th>interval_year</th>\n",
       "      <th>price/sqft</th>\n",
       "    </tr>\n",
       "  </thead>\n",
       "  <tbody>\n",
       "    <tr>\n",
       "      <th>360897</th>\n",
       "      <td>land</td>\n",
       "      <td>4.0</td>\n",
       "      <td>0</td>\n",
       "      <td>El Paso</td>\n",
       "      <td>10190.0</td>\n",
       "      <td>79922</td>\n",
       "      <td>4.0</td>\n",
       "      <td>TX</td>\n",
       "      <td>0</td>\n",
       "      <td>140000.0</td>\n",
       "      <td>...</td>\n",
       "      <td>0</td>\n",
       "      <td>0</td>\n",
       "      <td>1.0</td>\n",
       "      <td>1.0</td>\n",
       "      <td>1.0</td>\n",
       "      <td>0.0</td>\n",
       "      <td>5.333333</td>\n",
       "      <td>1.51</td>\n",
       "      <td>&gt;=2010</td>\n",
       "      <td>14.0</td>\n",
       "    </tr>\n",
       "    <tr>\n",
       "      <th>175476</th>\n",
       "      <td>single</td>\n",
       "      <td>2.5</td>\n",
       "      <td>0</td>\n",
       "      <td>Hixson</td>\n",
       "      <td>1828.0</td>\n",
       "      <td>37343</td>\n",
       "      <td>3.5</td>\n",
       "      <td>TN</td>\n",
       "      <td>0</td>\n",
       "      <td>144500.0</td>\n",
       "      <td>...</td>\n",
       "      <td>1</td>\n",
       "      <td>1</td>\n",
       "      <td>1.0</td>\n",
       "      <td>1.0</td>\n",
       "      <td>1.0</td>\n",
       "      <td>0.0</td>\n",
       "      <td>4.000000</td>\n",
       "      <td>2.20</td>\n",
       "      <td>(1960 - 1969)</td>\n",
       "      <td>79.0</td>\n",
       "    </tr>\n",
       "    <tr>\n",
       "      <th>351468</th>\n",
       "      <td>single</td>\n",
       "      <td>2.0</td>\n",
       "      <td>0</td>\n",
       "      <td>ORLANDO</td>\n",
       "      <td>1264.0</td>\n",
       "      <td>32803</td>\n",
       "      <td>3.0</td>\n",
       "      <td>FL</td>\n",
       "      <td>0</td>\n",
       "      <td>295000.0</td>\n",
       "      <td>...</td>\n",
       "      <td>1</td>\n",
       "      <td>1</td>\n",
       "      <td>1.0</td>\n",
       "      <td>0.0</td>\n",
       "      <td>2.0</td>\n",
       "      <td>4.0</td>\n",
       "      <td>4.000000</td>\n",
       "      <td>1.50</td>\n",
       "      <td>(1950 - 1959)</td>\n",
       "      <td>233.0</td>\n",
       "    </tr>\n",
       "    <tr>\n",
       "      <th>48448</th>\n",
       "      <td>land</td>\n",
       "      <td>2.0</td>\n",
       "      <td>0</td>\n",
       "      <td>Statesville</td>\n",
       "      <td>0.0</td>\n",
       "      <td>28625</td>\n",
       "      <td>3.0</td>\n",
       "      <td>NC</td>\n",
       "      <td>0</td>\n",
       "      <td>78500.0</td>\n",
       "      <td>...</td>\n",
       "      <td>0</td>\n",
       "      <td>0</td>\n",
       "      <td>3.0</td>\n",
       "      <td>1.0</td>\n",
       "      <td>1.0</td>\n",
       "      <td>2.0</td>\n",
       "      <td>2.285714</td>\n",
       "      <td>4.70</td>\n",
       "      <td>(1980 - 1989)</td>\n",
       "      <td>127.0</td>\n",
       "    </tr>\n",
       "    <tr>\n",
       "      <th>108170</th>\n",
       "      <td>single</td>\n",
       "      <td>1.0</td>\n",
       "      <td>1</td>\n",
       "      <td>Charlotte</td>\n",
       "      <td>1016.0</td>\n",
       "      <td>28269</td>\n",
       "      <td>2.0</td>\n",
       "      <td>NC</td>\n",
       "      <td>0</td>\n",
       "      <td>145000.0</td>\n",
       "      <td>...</td>\n",
       "      <td>1</td>\n",
       "      <td>1</td>\n",
       "      <td>1.0</td>\n",
       "      <td>1.0</td>\n",
       "      <td>1.0</td>\n",
       "      <td>0.0</td>\n",
       "      <td>4.000000</td>\n",
       "      <td>2.30</td>\n",
       "      <td>(1940 - 1949)</td>\n",
       "      <td>143.0</td>\n",
       "    </tr>\n",
       "  </tbody>\n",
       "</table>\n",
       "<p>5 rows × 22 columns</p>\n",
       "</div>"
      ],
      "text/plain": [
       "       propertyType  baths  fireplace         city     sqft zipcode  beds  \\\n",
       "360897         land    4.0          0      El Paso  10190.0   79922   4.0   \n",
       "175476       single    2.5          0       Hixson   1828.0   37343   3.5   \n",
       "351468       single    2.0          0      ORLANDO   1264.0   32803   3.0   \n",
       "48448          land    2.0          0  Statesville      0.0   28625   3.0   \n",
       "108170       single    1.0          1    Charlotte   1016.0   28269   2.0   \n",
       "\n",
       "       state  PrivatePool    target  ...  Heating  Cooling  Elementary  \\\n",
       "360897    TX            0  140000.0  ...        0        0         1.0   \n",
       "175476    TN            0  144500.0  ...        1        1         1.0   \n",
       "351468    FL            0  295000.0  ...        1        1         1.0   \n",
       "48448     NC            0   78500.0  ...        0        0         3.0   \n",
       "108170    NC            0  145000.0  ...        1        1         1.0   \n",
       "\n",
       "        Middle  High  Other    Rating  Distance  interval_year  price/sqft  \n",
       "360897     1.0   1.0    0.0  5.333333      1.51         >=2010        14.0  \n",
       "175476     1.0   1.0    0.0  4.000000      2.20  (1960 - 1969)        79.0  \n",
       "351468     0.0   2.0    4.0  4.000000      1.50  (1950 - 1959)       233.0  \n",
       "48448      1.0   1.0    2.0  2.285714      4.70  (1980 - 1989)       127.0  \n",
       "108170     1.0   1.0    0.0  4.000000      2.30  (1940 - 1949)       143.0  \n",
       "\n",
       "[5 rows x 22 columns]"
      ]
     },
     "execution_count": 49,
     "metadata": {},
     "output_type": "execute_result"
    }
   ],
   "source": [
    "# Производим десериализацию и извлекаем модель из файла формата pkl\n",
    "with open('data/df_clean.pkl', 'rb') as pkl_file:\n",
    "    df = pickle.load(pkl_file)\n",
    "\n",
    "df.head()"
   ]
  },
  {
   "attachments": {},
   "cell_type": "markdown",
   "metadata": {},
   "source": [
    "#### Произведем исследование логарифмированных распределений на наличие выбросов с помощью метода z-отклонений (3ех сигм)"
   ]
  },
  {
   "attachments": {},
   "cell_type": "markdown",
   "metadata": {},
   "source": [
    "Целевая метрика 'target':"
   ]
  },
  {
   "cell_type": "code",
   "execution_count": 50,
   "metadata": {},
   "outputs": [
    {
     "data": {
      "image/png": "[encoded data removed]",
      "text/plain": [
       "<Figure size 1500x400 with 2 Axes>"
      ]
     },
     "metadata": {},
     "output_type": "display_data"
    }
   ],
   "source": [
    "fig, axes = plt.subplots(1, 2, figsize=(15, 4)) #фигура + координатная плоскость\n",
    "#Строим гистограмму\n",
    "sns.histplot(data=df, x='target', ax=axes[0]);\n",
    "#Логарифмируем\n",
    "log_price = np.log(df['target'])\n",
    "#Строим гистограмму в логарифмическом масштабе\n",
    "sns.histplot(data=log_price, ax=axes[1]);\n",
    "#Добавляем вертикальные линии для среднего и 3ех стандартных отклонений влево и вправо от среднего\n",
    "axes[1].axvline(log_price.mean(), color='k', lw=2)\n",
    "axes[1].axvline(log_price.mean()+ 3 *log_price.std(),\n",
    "                color='k', ls='--', lw=2)\n",
    "axes[1].axvline(log_price.mean()- 3 *log_price.std(),\n",
    "                color='k', ls='--', lw=2);"
   ]
  },
  {
   "attachments": {},
   "cell_type": "markdown",
   "metadata": {},
   "source": [
    "Параметр 'sqft':"
   ]
  },
  {
   "cell_type": "code",
   "execution_count": 51,
   "metadata": {},
   "outputs": [
    {
     "name": "stderr",
     "output_type": "stream",
     "text": [
      "c:\\Users\\CorhariS\\AppData\\Local\\Programs\\Python\\Python39\\lib\\site-packages\\pandas\\core\\arraylike.py:397: RuntimeWarning: divide by zero encountered in log\n",
      "  result = getattr(ufunc, method)(*inputs, **kwargs)\n"
     ]
    },
    {
     "data": {
      "image/png": "[encoded data removed]",
      "text/plain": [
       "<Figure size 1500x400 with 2 Axes>"
      ]
     },
     "metadata": {},
     "output_type": "display_data"
    }
   ],
   "source": [
    "fig, axes = plt.subplots(1, 2, figsize=(15, 4)) #фигура + координатная плоскость\n",
    "#Строим гистограмму\n",
    "sns.histplot(data=df, x='sqft', ax=axes[0]);\n",
    "#Логарифмируем\n",
    "log_price = np.log(df['sqft'])\n",
    "#Строим гистограмму в логарифмическом масштабе\n",
    "sns.histplot(data=log_price, ax=axes[1]);\n",
    "#Добавляем вертикальные линии для среднего и 3ех стандартных отклонений влево и вправо от среднего\n",
    "axes[1].axvline(log_price.mean(), color='k', lw=2)\n",
    "axes[1].axvline(log_price.mean()+ 3 *log_price.std(),\n",
    "                color='k', ls='--', lw=2)\n",
    "axes[1].axvline(log_price.mean()- 3 *log_price.std(),\n",
    "                color='k', ls='--', lw=2);"
   ]
  },
  {
   "attachments": {},
   "cell_type": "markdown",
   "metadata": {},
   "source": [
    "Параметр 'price/sqft':"
   ]
  },
  {
   "cell_type": "code",
   "execution_count": 52,
   "metadata": {},
   "outputs": [
    {
     "name": "stderr",
     "output_type": "stream",
     "text": [
      "c:\\Users\\CorhariS\\AppData\\Local\\Programs\\Python\\Python39\\lib\\site-packages\\pandas\\core\\arraylike.py:397: RuntimeWarning: divide by zero encountered in log\n",
      "  result = getattr(ufunc, method)(*inputs, **kwargs)\n"
     ]
    },
    {
     "data": {
      "image/png": "[encoded data removed]",
      "text/plain": [
       "<Figure size 1500x400 with 2 Axes>"
      ]
     },
     "metadata": {},
     "output_type": "display_data"
    }
   ],
   "source": [
    "fig, axes = plt.subplots(1, 2, figsize=(15, 4)) #фигура + координатная плоскость\n",
    "#Строим гистограмму\n",
    "sns.histplot(data=df, x='price/sqft', ax=axes[0]);\n",
    "#Логарифмируем\n",
    "log_price_sqft = np.log(df['price/sqft'])\n",
    "#Строим гистограмму в логарифмическом масштабе\n",
    "sns.histplot(data=log_price_sqft, ax=axes[1]);\n",
    "#Добавляем вертикальные линии для среднего и 3ех стандартных отклонений влево и вправо от среднего\n",
    "axes[1].axvline(log_price_sqft.mean(), color='k', lw=2)\n",
    "axes[1].axvline(log_price_sqft.mean()+ 3 *log_price_sqft.std(),\n",
    "                color='k', ls='--', lw=2)\n",
    "axes[1].axvline(log_price_sqft.mean()- 3 *log_price_sqft.std(),\n",
    "                color='k', ls='--', lw=2);"
   ]
  },
  {
   "cell_type": "code",
   "execution_count": 53,
   "metadata": {},
   "outputs": [],
   "source": [
    "temp_data = df.copy()"
   ]
  },
  {
   "attachments": {},
   "cell_type": "markdown",
   "metadata": {},
   "source": [
    "#### Избавимся от выбросов с помощью метода z-отклонений на логарифмированных признаках.  ####"
   ]
  },
  {
   "cell_type": "code",
   "execution_count": 54,
   "metadata": {},
   "outputs": [
    {
     "name": "stdout",
     "output_type": "stream",
     "text": [
      "Shape before cleaning outliers: (350353, 22)\n",
      "Shape after cleaning outliers: (339138, 22)\n"
     ]
    }
   ],
   "source": [
    "#Объявляем функцию, реализующую фильтрацию выбросов по методу z-отклонений\n",
    "def outliers_z_score(data, feature, const_dict, log_scale=False):\n",
    "    if log_scale:\n",
    "        x = np.log(data[feature]+1)\n",
    "    else:\n",
    "        x = data[feature]\n",
    "    mu = x.mean()\n",
    "    sigma = x.std()\n",
    "    lower_bound = mu - 3 * sigma\n",
    "    upper_bound = mu + 3 * sigma\n",
    "    outliers = data[(x < lower_bound) | (x > upper_bound)]\n",
    "    cleaned = data[(x > lower_bound) & (x < upper_bound)]\n",
    "    \n",
    "    # Пишем в справочник констант значение lower_bound и upper_bound\n",
    "    feature_lower_bound = feature+'_lower_bound'\n",
    "    feature_upper_bound = feature+'_upper_bound'\n",
    "    const_dict[feature_lower_bound] = lower_bound\n",
    "    const_dict[feature_upper_bound] = upper_bound\n",
    "    \n",
    "    return outliers, cleaned\n",
    "#Производим очистку \n",
    "outliers, temp_cleaned = outliers_z_score(temp_data, 'target', const_dict, log_scale=True)\n",
    "outliers, temp_cleaned = outliers_z_score(temp_cleaned, 'sqft', const_dict, log_scale=True)\n",
    "outliers, temp_cleaned = outliers_z_score(temp_cleaned, 'price/sqft', const_dict, log_scale=True)\n",
    "\n",
    "print('Shape before cleaning outliers: {}'.format(temp_data.shape))\n",
    "print('Shape after cleaning outliers: {}'.format(temp_cleaned.shape))"
   ]
  },
  {
   "attachments": {},
   "cell_type": "markdown",
   "metadata": {},
   "source": [
    "#### Проведем кодирование признаков"
   ]
  },
  {
   "cell_type": "code",
   "execution_count": 55,
   "metadata": {},
   "outputs": [],
   "source": [
    "# кодирование поля zipcode (BinaryEncoder)\n",
    "bin_encoder = ce.BinaryEncoder(cols=['zipcode'])\n",
    "s_zipcode = temp_cleaned['zipcode']\n",
    "zipcode_bin = bin_encoder.fit_transform(s_zipcode)\n",
    "temp_cleaned = pd.concat([temp_cleaned, zipcode_bin], axis=1)\n",
    "\n",
    "# кодирование поля city (BinaryEncoder)\n",
    "bin_encoder = ce.BinaryEncoder(cols=['city'])\n",
    "s_city = temp_cleaned['city'] \n",
    "city_bin = bin_encoder.fit_transform(s_city)\n",
    "temp_cleaned = pd.concat([temp_cleaned, city_bin], axis=1)\n",
    "\n",
    "# кодирование поля state (BinaryEncoder)\n",
    "bin_encoder = ce.BinaryEncoder(cols=['state'])\n",
    "s_state = temp_cleaned['state']\n",
    "state_bin = bin_encoder.fit_transform(s_state)\n",
    "temp_cleaned = pd.concat([temp_cleaned, state_bin], axis=1)\n",
    "\n",
    "# кодирование поля propertyType\n",
    "s_propertyType = temp_cleaned['propertyType']\n",
    "temp_cleaned = pd.get_dummies(temp_cleaned, columns=['propertyType']) \n",
    "\n",
    "# кодирование поля interval_year\n",
    "s_interval_year = temp_cleaned['interval_year']\n",
    "temp_cleaned = pd.get_dummies(temp_cleaned, columns=['interval_year'])"
   ]
  },
  {
   "attachments": {},
   "cell_type": "markdown",
   "metadata": {},
   "source": [
    "Создадим справочник закодированных признаков dict_binary. Данный справочник будет иметь следующую структуру:\n",
    "~~~\n",
    "{'название признака 1': {'Бинарные имена признака': ['Имя_1','Имя_1', ...]\n",
    "                         'значение1 признака': [0, 0, ...] \n",
    "                         'значение2 признака': [0, 0, ...]\n",
    "                         ...\n",
    "                         'значениеN признака': [0, 0, ...]\n",
    "                        } \n",
    "\n",
    "'название признака 2': {'Бинарные имена признака': ['Имя_1','Имя_1', ...]\n",
    "                         'значение1 признака': [0, 0, ...] \n",
    "                         'значение2 признака': [0, 0, ...]\n",
    "                         ...\n",
    "                         'значениеN признака': [0, 0, ...]\n",
    "                        }   \n",
    "...                     \n",
    "\n",
    "}\n",
    "~~~"
   ]
  },
  {
   "cell_type": "code",
   "execution_count": 56,
   "metadata": {},
   "outputs": [],
   "source": [
    "dict_binary=dict()\n",
    "\n",
    "def fill_dict_binary(df_bin):\n",
    "    dict_bin = dict()\n",
    "    lst_cols_bin = df_bin.columns.to_list()\n",
    "    dict_bin['col_names'] = lst_cols_bin[1:]\n",
    "\n",
    "    for i, row in df_bin.iterrows():\n",
    "        dict_bin[row[lst_cols_bin[0]]] = [row[x] for x in lst_cols_bin[1:]]\n",
    "        \n",
    "    return dict_bin"
   ]
  },
  {
   "attachments": {},
   "cell_type": "markdown",
   "metadata": {},
   "source": [
    "Заполняем справочник dict_binary. keys: 'zipcode', 'city', 'state', 'propertyType', 'interval_year' "
   ]
  },
  {
   "cell_type": "code",
   "execution_count": 57,
   "metadata": {},
   "outputs": [],
   "source": [
    "# zipcode\n",
    "df_zipcode = pd.concat([s_zipcode, zipcode_bin], axis=1)\n",
    "df_zipcode = df_zipcode.drop_duplicates()\n",
    "dict_binary['zipcode'] = fill_dict_binary(df_zipcode)\n",
    "const_dict['zipcode_mode'] = s_zipcode.mode()[0] \n",
    "\n",
    "# city\n",
    "df_city = pd.concat([s_city, city_bin], axis=1)\n",
    "df_city = df_city.drop_duplicates()\n",
    "dict_binary['city'] = fill_dict_binary(df_city)\n",
    "const_dict['city_mode'] = s_city.mode()[0] \n",
    "\n",
    "# state\n",
    "df_state = pd.concat([s_state, state_bin], axis=1)\n",
    "df_state = df_state.drop_duplicates()\n",
    "dict_binary['state'] = fill_dict_binary(df_state)\n",
    "const_dict['state_mode'] = s_state.mode()[0] \n",
    "\n",
    "lst_columns = temp_cleaned.columns.to_list()\n",
    "# propertyType\n",
    "lst_propertyType = list(filter(lambda x: 'propertyType' in x, lst_columns))\n",
    "df_propertyType = pd.concat([s_propertyType, temp_cleaned[lst_propertyType]], axis=1)\n",
    "df_propertyType = df_propertyType.drop_duplicates()\n",
    "dict_binary['propertyType'] = fill_dict_binary(df_propertyType)\n",
    "const_dict['propertyType_mode'] = s_propertyType.mode()[0] \n",
    "\n",
    "# interval_year\n",
    "lst_interval_year = list(filter(lambda x: 'interval_year' in x, lst_columns))\n",
    "df_interval_year = pd.concat([s_interval_year, temp_cleaned[lst_interval_year]], axis=1)\n",
    "df_interval_year = df_interval_year.drop_duplicates()\n",
    "dict_binary['interval_year'] = fill_dict_binary(df_interval_year)\n",
    "const_dict['interval_year_mode'] = s_interval_year.mode()[0] "
   ]
  },
  {
   "attachments": {},
   "cell_type": "markdown",
   "metadata": {},
   "source": [
    "Проведем нормализацию следующих признаков:\n",
    "* 'baths',\n",
    "* 'sqft',\n",
    "* 'beds', \n",
    "* 'Elementary', \n",
    "* 'Middle', \n",
    "* 'High',\n",
    "* 'Other',\n",
    "* 'Rating', \n",
    "* 'Distance',\n",
    "* 'price/sqft'\n"
   ]
  },
  {
   "cell_type": "code",
   "execution_count": 58,
   "metadata": {},
   "outputs": [
    {
     "data": {
      "text/plain": [
       "count    339138.000000\n",
       "mean          3.285257\n",
       "std           2.911950\n",
       "min           0.000000\n",
       "25%           3.000000\n",
       "50%           3.000000\n",
       "75%           4.000000\n",
       "max         871.000000\n",
       "Name: beds, dtype: float64"
      ]
     },
     "execution_count": 58,
     "metadata": {},
     "output_type": "execute_result"
    }
   ],
   "source": [
    "temp_cleaned['beds'].describe()"
   ]
  },
  {
   "cell_type": "code",
   "execution_count": 59,
   "metadata": {},
   "outputs": [
    {
     "data": {
      "text/html": [
       "<div>\n",
       "<style scoped>\n",
       "    .dataframe tbody tr th:only-of-type {\n",
       "        vertical-align: middle;\n",
       "    }\n",
       "\n",
       "    .dataframe tbody tr th {\n",
       "        vertical-align: top;\n",
       "    }\n",
       "\n",
       "    .dataframe thead th {\n",
       "        text-align: right;\n",
       "    }\n",
       "</style>\n",
       "<table border=\"1\" class=\"dataframe\">\n",
       "  <thead>\n",
       "    <tr style=\"text-align: right;\">\n",
       "      <th></th>\n",
       "      <th>baths</th>\n",
       "      <th>fireplace</th>\n",
       "      <th>city</th>\n",
       "      <th>sqft</th>\n",
       "      <th>zipcode</th>\n",
       "      <th>beds</th>\n",
       "      <th>state</th>\n",
       "      <th>PrivatePool</th>\n",
       "      <th>target</th>\n",
       "      <th>Remodeled year</th>\n",
       "      <th>...</th>\n",
       "      <th>interval_year_(1930 - 1939)</th>\n",
       "      <th>interval_year_(1940 - 1949)</th>\n",
       "      <th>interval_year_(1950 - 1959)</th>\n",
       "      <th>interval_year_(1960 - 1969)</th>\n",
       "      <th>interval_year_(1970 - 1979)</th>\n",
       "      <th>interval_year_(1980 - 1989)</th>\n",
       "      <th>interval_year_(1990 - 1999)</th>\n",
       "      <th>interval_year_(2000 - 2009)</th>\n",
       "      <th>interval_year_&lt;1850</th>\n",
       "      <th>interval_year_&gt;=2010</th>\n",
       "    </tr>\n",
       "  </thead>\n",
       "  <tbody>\n",
       "    <tr>\n",
       "      <th>175476</th>\n",
       "      <td>0.003333</td>\n",
       "      <td>0</td>\n",
       "      <td>Hixson</td>\n",
       "      <td>0.071506</td>\n",
       "      <td>37343</td>\n",
       "      <td>0.004018</td>\n",
       "      <td>TN</td>\n",
       "      <td>0</td>\n",
       "      <td>144500.0</td>\n",
       "      <td>1</td>\n",
       "      <td>...</td>\n",
       "      <td>0</td>\n",
       "      <td>0</td>\n",
       "      <td>0</td>\n",
       "      <td>1</td>\n",
       "      <td>0</td>\n",
       "      <td>0</td>\n",
       "      <td>0</td>\n",
       "      <td>0</td>\n",
       "      <td>0</td>\n",
       "      <td>0</td>\n",
       "    </tr>\n",
       "    <tr>\n",
       "      <th>351468</th>\n",
       "      <td>0.002667</td>\n",
       "      <td>0</td>\n",
       "      <td>ORLANDO</td>\n",
       "      <td>0.048849</td>\n",
       "      <td>32803</td>\n",
       "      <td>0.003444</td>\n",
       "      <td>FL</td>\n",
       "      <td>0</td>\n",
       "      <td>295000.0</td>\n",
       "      <td>1</td>\n",
       "      <td>...</td>\n",
       "      <td>0</td>\n",
       "      <td>0</td>\n",
       "      <td>1</td>\n",
       "      <td>0</td>\n",
       "      <td>0</td>\n",
       "      <td>0</td>\n",
       "      <td>0</td>\n",
       "      <td>0</td>\n",
       "      <td>0</td>\n",
       "      <td>0</td>\n",
       "    </tr>\n",
       "    <tr>\n",
       "      <th>108170</th>\n",
       "      <td>0.001333</td>\n",
       "      <td>1</td>\n",
       "      <td>Charlotte</td>\n",
       "      <td>0.038886</td>\n",
       "      <td>28269</td>\n",
       "      <td>0.002296</td>\n",
       "      <td>NC</td>\n",
       "      <td>0</td>\n",
       "      <td>145000.0</td>\n",
       "      <td>1</td>\n",
       "      <td>...</td>\n",
       "      <td>0</td>\n",
       "      <td>1</td>\n",
       "      <td>0</td>\n",
       "      <td>0</td>\n",
       "      <td>0</td>\n",
       "      <td>0</td>\n",
       "      <td>0</td>\n",
       "      <td>0</td>\n",
       "      <td>0</td>\n",
       "      <td>0</td>\n",
       "    </tr>\n",
       "    <tr>\n",
       "      <th>214823</th>\n",
       "      <td>0.002667</td>\n",
       "      <td>1</td>\n",
       "      <td>Oxnard</td>\n",
       "      <td>0.047604</td>\n",
       "      <td>93033</td>\n",
       "      <td>0.004592</td>\n",
       "      <td>CA</td>\n",
       "      <td>0</td>\n",
       "      <td>515000.0</td>\n",
       "      <td>0</td>\n",
       "      <td>...</td>\n",
       "      <td>0</td>\n",
       "      <td>0</td>\n",
       "      <td>1</td>\n",
       "      <td>0</td>\n",
       "      <td>0</td>\n",
       "      <td>0</td>\n",
       "      <td>0</td>\n",
       "      <td>0</td>\n",
       "      <td>0</td>\n",
       "      <td>0</td>\n",
       "    </tr>\n",
       "    <tr>\n",
       "      <th>151884</th>\n",
       "      <td>0.004667</td>\n",
       "      <td>0</td>\n",
       "      <td>Richmond</td>\n",
       "      <td>0.135781</td>\n",
       "      <td>77406</td>\n",
       "      <td>0.004592</td>\n",
       "      <td>TX</td>\n",
       "      <td>0</td>\n",
       "      <td>421990.0</td>\n",
       "      <td>0</td>\n",
       "      <td>...</td>\n",
       "      <td>0</td>\n",
       "      <td>0</td>\n",
       "      <td>0</td>\n",
       "      <td>0</td>\n",
       "      <td>0</td>\n",
       "      <td>1</td>\n",
       "      <td>0</td>\n",
       "      <td>0</td>\n",
       "      <td>0</td>\n",
       "      <td>0</td>\n",
       "    </tr>\n",
       "  </tbody>\n",
       "</table>\n",
       "<p>5 rows × 88 columns</p>\n",
       "</div>"
      ],
      "text/plain": [
       "           baths  fireplace       city      sqft zipcode      beds state  \\\n",
       "175476  0.003333          0     Hixson  0.071506   37343  0.004018    TN   \n",
       "351468  0.002667          0    ORLANDO  0.048849   32803  0.003444    FL   \n",
       "108170  0.001333          1  Charlotte  0.038886   28269  0.002296    NC   \n",
       "214823  0.002667          1     Oxnard  0.047604   93033  0.004592    CA   \n",
       "151884  0.004667          0   Richmond  0.135781   77406  0.004592    TX   \n",
       "\n",
       "        PrivatePool    target  Remodeled year  ...  \\\n",
       "175476            0  144500.0               1  ...   \n",
       "351468            0  295000.0               1  ...   \n",
       "108170            0  145000.0               1  ...   \n",
       "214823            0  515000.0               0  ...   \n",
       "151884            0  421990.0               0  ...   \n",
       "\n",
       "        interval_year_(1930 - 1939)  interval_year_(1940 - 1949)  \\\n",
       "175476                            0                            0   \n",
       "351468                            0                            0   \n",
       "108170                            0                            1   \n",
       "214823                            0                            0   \n",
       "151884                            0                            0   \n",
       "\n",
       "        interval_year_(1950 - 1959)  interval_year_(1960 - 1969)  \\\n",
       "175476                            0                            1   \n",
       "351468                            1                            0   \n",
       "108170                            0                            0   \n",
       "214823                            1                            0   \n",
       "151884                            0                            0   \n",
       "\n",
       "        interval_year_(1970 - 1979)  interval_year_(1980 - 1989)  \\\n",
       "175476                            0                            0   \n",
       "351468                            0                            0   \n",
       "108170                            0                            0   \n",
       "214823                            0                            0   \n",
       "151884                            0                            1   \n",
       "\n",
       "        interval_year_(1990 - 1999)  interval_year_(2000 - 2009)  \\\n",
       "175476                            0                            0   \n",
       "351468                            0                            0   \n",
       "108170                            0                            0   \n",
       "214823                            0                            0   \n",
       "151884                            0                            0   \n",
       "\n",
       "        interval_year_<1850  interval_year_>=2010  \n",
       "175476                    0                     0  \n",
       "351468                    0                     0  \n",
       "108170                    0                     0  \n",
       "214823                    0                     0  \n",
       "151884                    0                     0  \n",
       "\n",
       "[5 rows x 88 columns]"
      ]
     },
     "execution_count": 59,
     "metadata": {},
     "output_type": "execute_result"
    }
   ],
   "source": [
    "data_scaled = temp_cleaned.copy()\n",
    "\n",
    "col_scale = ['baths', 'sqft', 'beds', 'Elementary', 'Middle', 'High', 'Other', 'Rating', 'Distance', 'price/sqft']\n",
    "scaler = MinMaxScaler()\n",
    " \n",
    "data_scaled[col_scale] = scaler.fit_transform(data_scaled[col_scale].values)\n",
    "\n",
    "# Запишим в справочник констант модель MinMaxScaler c обучающими параметрами\n",
    "const_dict['MinMaxScaler_model'] = scaler\n",
    "\n",
    "data_scaled.head()"
   ]
  },
  {
   "cell_type": "code",
   "execution_count": 60,
   "metadata": {},
   "outputs": [],
   "source": [
    "# Удалим лишнии колонки\n",
    "data_scaled = data_scaled.drop(columns=['zipcode', 'city', 'state'], axis=1)"
   ]
  },
  {
   "attachments": {},
   "cell_type": "markdown",
   "metadata": {},
   "source": [
    "### Моделирование + Оценка модели"
   ]
  },
  {
   "attachments": {},
   "cell_type": "markdown",
   "metadata": {},
   "source": [
    "Заранее создадим функцию, которая будет расчитывать метрики:\n",
    "\n",
    "1. MAE - средняя абсолютная ошибка (целевая метрика)\n",
    "2. MAPE - средняя абсолютная ошибка в процентах \n",
    "3. $R^2$ - коэффициент детерминации "
   ]
  },
  {
   "cell_type": "code",
   "execution_count": 15,
   "metadata": {},
   "outputs": [],
   "source": [
    "def print_metrics(y_train, y_train_predict, y_test, y_test_predict):\n",
    "    print('Train R^2: {:.3f}'.format(metrics.r2_score(y_train, y_train_predict)))\n",
    "    print('Train MAE: {:.3f}'.format(metrics.mean_absolute_error(y_train, y_train_predict)))\n",
    "    print('Train MAPE: {:.3f}'.format(metrics.mean_absolute_percentage_error(y_train, y_train_predict)*100))\n",
    "    print('\\n')\n",
    "    print('Test R^2: {:.3f}'.format(metrics.r2_score(y_test, y_test_predict)))\n",
    "    print('Test MAE: {:.3f}'.format(metrics.mean_absolute_error(y_test, y_test_predict)))\n",
    "    print('Test MAPE: {:.3f}'.format(metrics.mean_absolute_percentage_error(y_test, y_test_predict)*100))"
   ]
  },
  {
   "attachments": {},
   "cell_type": "markdown",
   "metadata": {},
   "source": [
    "Разделяем всю выборку на тренировочную и тестовую в соотношении 80/20.\n",
    "\n",
    "На тренировочной выборке будем обучать модели, а на тестовой проверять их качество. "
   ]
  },
  {
   "cell_type": "code",
   "execution_count": 16,
   "metadata": {},
   "outputs": [
    {
     "name": "stdout",
     "output_type": "stream",
     "text": [
      "Train shape: (271310, 84)\n",
      "Test shape: (67828, 84)\n"
     ]
    }
   ],
   "source": [
    "y = data_scaled['target']\n",
    "x = data_scaled.drop(columns='target')\n",
    "\n",
    "X_train, X_test, y_train, y_test = train_test_split(x, y, test_size=0.2, random_state=40)\n",
    "\n",
    "#Запишим в справочник констант порядок колонок в X_train, необходимый для сервиса предсказания\n",
    "const_dict['order_columns_name'] = X_train.columns.to_list()\n",
    "\n",
    "#Выводим размеры полученных выборок\n",
    "print('Train shape: {}'.format(X_train.shape))\n",
    "print('Test shape: {}'.format(X_test.shape))"
   ]
  },
  {
   "attachments": {},
   "cell_type": "markdown",
   "metadata": {},
   "source": [
    "**Модель линейной регрессии:**"
   ]
  },
  {
   "cell_type": "code",
   "execution_count": 17,
   "metadata": {},
   "outputs": [
    {
     "name": "stdout",
     "output_type": "stream",
     "text": [
      "Train R^2: 0.714\n",
      "Train MAE: 159573.138\n",
      "Train MAPE: 48.391\n",
      "\n",
      "\n",
      "Test R^2: 0.711\n",
      "Test MAE: 158161.302\n",
      "Test MAPE: 48.257\n"
     ]
    }
   ],
   "source": [
    "model_lr = LinearRegression()\n",
    "model_lr.fit(X_train, y_train)\n",
    "\n",
    "y_train_pred = model_lr.predict(X_train)\n",
    "y_test_pred = model_lr.predict(X_test)\n",
    " \n",
    "#Выводим результирующие метрики\n",
    "print_metrics(y_train, y_train_pred, y_test, y_test_pred)"
   ]
  },
  {
   "attachments": {},
   "cell_type": "markdown",
   "metadata": {},
   "source": [
    "**Модель случайного леса:**"
   ]
  },
  {
   "cell_type": "code",
   "execution_count": 323,
   "metadata": {},
   "outputs": [
    {
     "name": "stdout",
     "output_type": "stream",
     "text": [
      "Train R^2: 0.839\n",
      "Train MAE: 110640.574\n",
      "Train MAPE: 33.601\n",
      "\n",
      "\n",
      "Test R^2: 0.851\n",
      "Test MAE: 109634.490\n",
      "Test MAPE: 32.104\n"
     ]
    }
   ],
   "source": [
    "\n",
    "model_rfr = RandomForestRegressor(\n",
    "    n_estimators=100,\n",
    "    max_depth=5,\n",
    "    random_state=42,\n",
    "    n_jobs=-1\n",
    ")\n",
    "\n",
    "model_rfr.fit(X_train, y_train)\n",
    "\n",
    "y_train_pred = model_rfr.predict(X_train)\n",
    "y_test_pred = model_rfr.predict(X_test)\n",
    "\n",
    "#Выводим результирующие метрики\n",
    "print_metrics(y_train, y_train_pred, y_test, y_test_pred)"
   ]
  },
  {
   "attachments": {},
   "cell_type": "markdown",
   "metadata": {},
   "source": [
    "Улучшим модель при помощи подбора оптимальных парамметров"
   ]
  },
  {
   "cell_type": "code",
   "execution_count": 305,
   "metadata": {},
   "outputs": [],
   "source": [
    "# зададим пространство поиска гиперпараметров\n",
    "space={'n_estimators': hp.quniform('n_estimators', 100, 200, 1),\n",
    "       'max_depth' : hp.quniform('max_depth', 10, 20, 1)\n",
    "    }\n",
    "\n",
    "# зафксируем random_state\n",
    "random_state = 42\n",
    "def hyperopt_rf(params, cv=5, X=X_train, y=y_train, random_state=random_state):\n",
    "    # функция получает комбинацию гиперпараметров в \"params\"\n",
    "    params = {'n_estimators': int(params['n_estimators']), \n",
    "              'max_depth': int(params['max_depth'])\n",
    "             }\n",
    "  \n",
    "    # используем эту комбинацию для построения модели\n",
    "    model = RandomForestRegressor(**params, random_state=random_state, n_jobs=-1)\n",
    "\n",
    "    # обучаем модель\n",
    "    model.fit(X, y)\n",
    "    score = metrics.mean_absolute_percentage_error(y, model.predict(X))\n",
    "    \n",
    "    # метрику необходимо минимизировать, поэтому ставим знак минус\n",
    "    return score\n"
   ]
  },
  {
   "cell_type": "code",
   "execution_count": 306,
   "metadata": {},
   "outputs": [
    {
     "name": "stdout",
     "output_type": "stream",
     "text": [
      "100%|██████████| 10/10 [37:08<00:00, 222.82s/trial, best loss: 0.07683227471146652]\n",
      "Наилучшие значения гиперпараметров {'max_depth': 20.0, 'n_estimators': 170.0}\n",
      "CPU times: total: 2h 4min 49s\n",
      "Wall time: 37min 8s\n"
     ]
    }
   ],
   "source": [
    "%%time\n",
    "\n",
    "trials = Trials() # используется для логирования результатов\n",
    "\n",
    "best = fmin(hyperopt_rf, # наша функция \n",
    "          space=space, # пространство гиперпараметров\n",
    "          algo=tpe.suggest, # алгоритм оптимизации, установлен по умолчанию, задавать необязательно\n",
    "          max_evals=10, # максимальное количество итераций\n",
    "          trials=trials, # логирование результатов\n",
    "          rstate=np.random.default_rng(random_state)# фиксируем для повторяемости результата\n",
    "         )\n",
    "print(\"Наилучшие значения гиперпараметров {}\".format(best))\n"
   ]
  },
  {
   "attachments": {},
   "cell_type": "markdown",
   "metadata": {},
   "source": [
    "Лучшие параметры {'n_estimators': 170, 'max_depth': 20}. Обучим нашу модель с этими параметрами"
   ]
  },
  {
   "cell_type": "code",
   "execution_count": 307,
   "metadata": {},
   "outputs": [
    {
     "name": "stdout",
     "output_type": "stream",
     "text": [
      "Train R^2: 0.963\n",
      "Train MAE: 24117.938\n",
      "Train MAPE: 7.683\n",
      "\n",
      "\n",
      "Test R^2: 0.900\n",
      "Test MAE: 41654.694\n",
      "Test MAPE: 13.158\n"
     ]
    }
   ],
   "source": [
    "model_rfr = RandomForestRegressor(\n",
    "    n_estimators=170,\n",
    "    max_depth=20,\n",
    "    random_state=42,\n",
    "    n_jobs=-1\n",
    ")\n",
    "\n",
    "model_rfr.fit(X_train, y_train)\n",
    "\n",
    "y_train_pred = model_rfr.predict(X_train)\n",
    "y_test_pred = model_rfr.predict(X_test)\n",
    "\n",
    "#Выводим результирующие метрики\n",
    "print_metrics(y_train, y_train_pred, y_test, y_test_pred)"
   ]
  },
  {
   "attachments": {},
   "cell_type": "markdown",
   "metadata": {},
   "source": [
    "**Модель AdaBoostRegressor:**"
   ]
  },
  {
   "cell_type": "code",
   "execution_count": 18,
   "metadata": {},
   "outputs": [
    {
     "name": "stdout",
     "output_type": "stream",
     "text": [
      "Train R^2: 0.929\n",
      "Train MAE: 32812.690\n",
      "Train MAPE: 10.386\n",
      "\n",
      "\n",
      "Test R^2: 0.894\n",
      "Test MAE: 38730.973\n",
      "Test MAPE: 11.858\n"
     ]
    }
   ],
   "source": [
    "model_abr = AdaBoostRegressor(\n",
    "    DecisionTreeRegressor(\n",
    "        min_samples_leaf=4,\n",
    "        max_depth=15,\n",
    "        random_state=42\n",
    "    ),\n",
    "    random_state=42,\n",
    "    learning_rate=0.0001,\n",
    "    n_estimators=100\n",
    ")\n",
    "\n",
    "model_abr.fit(X_train, y_train)\n",
    "\n",
    "y_train_pred = model_abr.predict(X_train)\n",
    "y_test_pred = model_abr.predict(X_test)\n",
    "\n",
    "#Выводим результирующие метрики\n",
    "print_metrics(y_train, y_train_pred, y_test, y_test_pred)"
   ]
  },
  {
   "attachments": {},
   "cell_type": "markdown",
   "metadata": {},
   "source": [
    "**Модель GradientBoostingRegressor:**"
   ]
  },
  {
   "cell_type": "code",
   "execution_count": null,
   "metadata": {},
   "outputs": [
    {
     "name": "stdout",
     "output_type": "stream",
     "text": [
      "Train R^2: 0.924\n",
      "Train MAE: 50500.850\n",
      "Train MAPE: 16.821\n",
      "\n",
      "\n",
      "Test R^2: 0.888\n",
      "Test MAE: 56925.926\n",
      "Test MAPE: 18.485\n"
     ]
    }
   ],
   "source": [
    "model_gbr = GradientBoostingRegressor(\n",
    "    learning_rate=0.5,\n",
    "    max_depth=5,\n",
    "    n_estimators=200,\n",
    "    random_state=42 \n",
    ")\n",
    "model_gbr.fit(X_train, y_train)\n",
    "\n",
    "y_train_pred = model_gbr.predict(X_train)\n",
    "y_test_pred = model_gbr.predict(X_test)\n",
    "\n",
    "#Выводим результирующие метрики\n",
    "print_metrics(y_train, y_train_pred, y_test, y_test_pred)"
   ]
  },
  {
   "attachments": {},
   "cell_type": "markdown",
   "metadata": {},
   "source": [
    "**Наилучшие результаты показала модель AdaBoostRegressor, ее и будем использовать для создания сервиса по предсказанию целевой метрики 'target'**"
   ]
  },
  {
   "cell_type": "code",
   "execution_count": 19,
   "metadata": {},
   "outputs": [],
   "source": [
    "# Производим сериализацию и записываем model_abr в файл формата pkl\n",
    "with open('../libs/data/model_abr.pkl', 'wb') as output:\n",
    "    pickle.dump(model_abr, output)"
   ]
  },
  {
   "cell_type": "code",
   "execution_count": 345,
   "metadata": {},
   "outputs": [],
   "source": [
    "# Производим сериализацию и записываем model_rfr в файл формата pkl\n",
    "with open('../libs/data/model_rfr.pkl', 'wb') as output:\n",
    "    pickle.dump(model_rfr, output)"
   ]
  },
  {
   "cell_type": "code",
   "execution_count": 61,
   "metadata": {},
   "outputs": [],
   "source": [
    "# Производим сериализацию и записываем const_dict в файл формата pkl\n",
    "with open('../libs/data/const_dict.pkl', 'wb') as output:\n",
    "    pickle.dump(const_dict, output)"
   ]
  },
  {
   "cell_type": "code",
   "execution_count": 62,
   "metadata": {},
   "outputs": [],
   "source": [
    "# Производим сериализацию и записываем dict_binary в файл формата pkl\n",
    "with open('../libs/data/dict_binary.pkl', 'wb') as output:\n",
    "    pickle.dump(dict_binary, output)"
   ]
  }
 ],
 "metadata": {
  "kernelspec": {
   "display_name": "Python 3",
   "language": "python",
   "name": "python3"
  },
  "language_info": {
   "codemirror_mode": {
    "name": "ipython",
    "version": 3
   },
   "file_extension": ".py",
   "mimetype": "text/x-python",
   "name": "python",
   "nbconvert_exporter": "python",
   "pygments_lexer": "ipython3",
   "version": "3.9.1"
  },
  "orig_nbformat": 4
 },
 "nbformat": 4,
 "nbformat_minor": 2
}
